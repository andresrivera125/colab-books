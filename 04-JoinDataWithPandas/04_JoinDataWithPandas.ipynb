{
  "nbformat": 4,
  "nbformat_minor": 0,
  "metadata": {
    "colab": {
      "name": "04-JoinDataWithPandas.ipynb",
      "provenance": [],
      "collapsed_sections": [],
      "toc_visible": true,
      "authorship_tag": "ABX9TyPIdZGfzcQX8qj3QcuzAPE+",
      "include_colab_link": true
    },
    "kernelspec": {
      "name": "python3",
      "display_name": "Python 3"
    }
  },
  "cells": [
    {
      "cell_type": "markdown",
      "metadata": {
        "id": "view-in-github",
        "colab_type": "text"
      },
      "source": [
        "<a href=\"https://colab.research.google.com/github/andresrivera125/colab-books/blob/main/04-JoinDataWithPandas/04_JoinDataWithPandas.ipynb\" target=\"_parent\"><img src=\"https://colab.research.google.com/assets/colab-badge.svg\" alt=\"Open In Colab\"/></a>"
      ]
    },
    {
      "cell_type": "markdown",
      "metadata": {
        "id": "OFaa5uudlRg7"
      },
      "source": [
        "# Inner join"
      ]
    },
    {
      "cell_type": "markdown",
      "metadata": {
        "id": "QglVQj3fmBiX"
      },
      "source": [
        ""
      ]
    },
    {
      "cell_type": "markdown",
      "metadata": {
        "id": "b0HF_nCjl6AQ"
      },
      "source": [
        "## What column to merge on?"
      ]
    },
    {
      "cell_type": "markdown",
      "metadata": {
        "id": "HyxDHaUNl_p7"
      },
      "source": [
        "### First exercise\n",
        "\n",
        "Chicago provides a list of taxicab owners and vehicles licensed to operate within the city, for public safety. Your goal is to merge two tables together. One table is called taxi_owners, with info about the taxi cab company owners, and one is called taxi_veh, with info about each taxi cab vehicle. Both the taxi_owners and taxi_veh tables have been loaded for you and you can explore them in the console.\n",
        "\n",
        "Choose the column you would use to merge the two tables on using the .merge() method.\n",
        "\n",
        "Answer - on='vid'"
      ]
    },
    {
      "cell_type": "markdown",
      "metadata": {
        "id": "DaVEatgymGkT"
      },
      "source": [
        "### Your first inner join\n",
        "\n",
        "You have been tasked with figuring out what the most popular types of fuel used in Chicago taxis are. To complete the analysis, you need to merge the taxi_owners and taxi_veh tables together on the vid column. You can then use the merged table along with the .value_counts() method to find the most common fuel_type.\n",
        "\n",
        "Since you'll be working with pandas throughout the course, the package will be preloaded for you as pd in each exercise in this course. Also the taxi_owners and taxi_veh DataFrames are loaded for you.\n",
        "\n",
        "#### 1\n",
        "\n",
        "Merge taxi_owners with taxi_veh on the column vid, and save the result to taxi_own_veh.\n",
        "\n"
      ]
    },
    {
      "cell_type": "code",
      "metadata": {
        "id": "jmvBlsfEmUmP"
      },
      "source": [
        "# Merge the taxi_owners and taxi_veh tables\n",
        "taxi_own_veh = taxi_owners.merge(taxi_veh, on = \"vid\")\n",
        "\n",
        "# Print the column names of the taxi_own_veh\n",
        "print(taxi_own_veh.columns)"
      ],
      "execution_count": null,
      "outputs": []
    },
    {
      "cell_type": "markdown",
      "metadata": {
        "id": "b0tSX743mWhL"
      },
      "source": [
        "#### 2\n",
        "\n",
        "Set the left and right table suffixes for overlapping columns of the merge to _own and _veh, respectively."
      ]
    },
    {
      "cell_type": "code",
      "metadata": {
        "id": "chmIR9XVmb_W"
      },
      "source": [
        "# Merge the taxi_owners and taxi_veh tables setting a suffix\n",
        "taxi_own_veh = taxi_owners.merge(taxi_veh, on='vid', suffixes=(\"_own\", \"_veh\"))\n",
        "\n",
        "# Print the column names of taxi_own_veh\n",
        "print(taxi_own_veh.columns)"
      ],
      "execution_count": null,
      "outputs": []
    },
    {
      "cell_type": "markdown",
      "metadata": {
        "id": "FMV3x7DhmfTZ"
      },
      "source": [
        "#### 3\n",
        "\n",
        "Select the fuel_type column from taxi_own_veh and print the value_counts() to find the most popular fuel_types used."
      ]
    },
    {
      "cell_type": "code",
      "metadata": {
        "id": "AnE8n2e3mluB"
      },
      "source": [
        "# Merge the taxi_owners and taxi_veh tables setting a suffix\n",
        "taxi_own_veh = taxi_owners.merge(taxi_veh, on='vid', suffixes=('_own','_veh'))\n",
        "\n",
        "# Print the value_counts to find the most popular fuel_type\n",
        "print(taxi_own_veh['fuel_type'].value_counts())"
      ],
      "execution_count": null,
      "outputs": []
    },
    {
      "cell_type": "markdown",
      "metadata": {
        "id": "R8hUcBEcmtmv"
      },
      "source": [
        "### Inner joins and number of rows returned\n",
        "\n",
        "All of the merges you have studied to this point are called inner joins. It is necessary to understand that inner joins only return the rows with matching values in both tables. You will explore this further by reviewing the merge between the wards and census tables, then comparing it to merges of copies of these tables that are slightly altered, named wards_altered, and census_altered. The first row of the wards column has been changed in the altered tables. You will examine how this affects the merge between them. The tables have been loaded for you.\n",
        "\n",
        "For this exercise, it is important to know that the wards and census tables start with 50 rows."
      ]
    },
    {
      "cell_type": "markdown",
      "metadata": {
        "id": "M1YuU-4Mm5Gn"
      },
      "source": [
        "#### 1\n",
        "\n",
        "Merge wards and census on the ward column and save the result to wards_census."
      ]
    },
    {
      "cell_type": "code",
      "metadata": {
        "id": "YeG_kGcem8NR"
      },
      "source": [
        "# Merge the wards and census tables on the ward column\n",
        "wards_census = wards.merge(census, on = \"ward\")\n",
        "\n",
        "# Print the shape of wards_census\n",
        "print('wards_census table shape:', wards_census.shape)"
      ],
      "execution_count": null,
      "outputs": []
    },
    {
      "cell_type": "markdown",
      "metadata": {
        "id": "9aeMnu4-m93-"
      },
      "source": [
        "#### 2\n",
        "\n",
        "Merge the wards_altered and census tables on the ward column, and notice the difference in returned rows."
      ]
    },
    {
      "cell_type": "code",
      "metadata": {
        "id": "E4udfx9bnB3B"
      },
      "source": [
        "# In the ward column change '1' to '61'\n",
        "wards_altered = wards\n",
        "wards_altered.loc[wards['ward'] == '1', \"ward\"] = '61'\n",
        "\n",
        "# Merge the wards and census tables on the ward column\n",
        "wards_altered_census = wards_altered.merge(census, on='ward')\n",
        "\n",
        "# Print the shape of wards_census\n",
        "print(wards_altered[['ward']].head())"
      ],
      "execution_count": null,
      "outputs": []
    },
    {
      "cell_type": "markdown",
      "metadata": {
        "id": "pJ_5fjC3nDr8"
      },
      "source": [
        "#### 3\n",
        "\n",
        "Merge the wards and census_altered tables on the ward column, and notice the difference in returned rows."
      ]
    },
    {
      "cell_type": "code",
      "metadata": {
        "id": "3DykFVeanHfA"
      },
      "source": [
        "# Change '1' to None in `ward` col\n",
        "census_altered = census\n",
        "census_altered.loc[census['ward'] == '1', \"ward\"] = None\n",
        "\n",
        "# Merge the wards and census tables on the ward column\n",
        "wards_census_altered = wards.merge(census_altered, on='ward')\n",
        "\n",
        "# Print the shape of wards_census\n",
        "print(census_altered[['ward']].head())"
      ],
      "execution_count": null,
      "outputs": []
    },
    {
      "cell_type": "markdown",
      "metadata": {
        "id": "eq-q1oDknPHs"
      },
      "source": [
        "### One-to-many merge\n",
        "\n",
        "A business may have one or multiple owners. In this exercise, you will continue to gain experience with one-to-many merges by merging a table of business owners, called biz_owners, to the licenses table. Recall from the video lesson, with a one-to-many relationship, a row in the left table may be repeated if it is related to multiple rows in the right table. In this lesson, you will explore this further by finding out what is the most common business owner title. (i.e., secretary, CEO, or vice president)\n",
        "\n",
        "The licenses and biz_owners DataFrames are loaded for you."
      ]
    },
    {
      "cell_type": "markdown",
      "metadata": {
        "id": "fQRG8BdsnUqY"
      },
      "source": [
        "#### 1\n",
        "\n",
        "Starting with the licenses table on the left, merge it to the biz_owners table on the column account, and save the results to a variable named licenses_owners.\n"
      ]
    },
    {
      "cell_type": "code",
      "metadata": {
        "id": "_z9F4e0inZNq"
      },
      "source": [
        "# Merge the licenses and biz_owners table on account\n",
        "licenses_owners = licenses.merge(biz_owners, on = \"account\")\n",
        "\n",
        "# Group the results by title then count the number of accounts\n",
        "counted_df = licenses_owners.groupby(\"title\").agg({'account':'count'})\n",
        "\n",
        "# Sort the counted_df in desending order\n",
        "sorted_df = counted_df.sort_values(by = [\"account\"], ascending = False)\n",
        "\n",
        "# Use .head() method to print the first few rows of sorted_df\n",
        "print(sorted_df.head())"
      ],
      "execution_count": null,
      "outputs": []
    },
    {
      "cell_type": "markdown",
      "metadata": {
        "id": "zs8NtxW2na8L"
      },
      "source": [
        "### Total riders in a month\n",
        "\n",
        "Your goal is to find the total number of rides provided to passengers passing through the Wilson station (station_name == 'Wilson') when riding Chicago's public transportation system on weekdays (day_type == 'Weekday') in July (month == 7). Luckily, Chicago provides this detailed data, but it is in three different tables. You will work on merging these tables together to answer the question. This data is different from the business related data you have seen so far, but all the information you need to answer the question is below.\n",
        "\n",
        "The cal, ridership, and stations DataFrames have been loaded for you. The relationship between the tables can be seen in the diagram below.\n"
      ]
    },
    {
      "cell_type": "markdown",
      "metadata": {
        "id": "zK6W7hU9nlex"
      },
      "source": [
        "#### 1\n",
        "\n",
        "Merge the ridership and cal tables together, starting with the ridership table on the left and save the result to the variable ridership_cal. If you code takes too long to run, your merge conditions might be incorrect."
      ]
    },
    {
      "cell_type": "code",
      "metadata": {
        "id": "un7gR1G4nnKX"
      },
      "source": [
        "# Merge the ridership and cal tables\n",
        "ridership_cal = ridership.merge(cal, on = [\"year\", \"month\", \"day\"])"
      ],
      "execution_count": null,
      "outputs": []
    },
    {
      "cell_type": "markdown",
      "metadata": {
        "id": "O5gPsBsCnpTz"
      },
      "source": [
        "#### 2\n",
        "\n",
        "Extend the previous merge to three tables by also merging the stations table."
      ]
    },
    {
      "cell_type": "code",
      "metadata": {
        "id": "-irLOS7Ans4I"
      },
      "source": [
        "# Merge the ridership, cal, and stations tables\n",
        "ridership_cal_stations = ridership.merge(cal, on=['year','month','day']) \\\n",
        "            \t\t\t\t.merge(stations, on = \"station_id\")"
      ],
      "execution_count": null,
      "outputs": []
    },
    {
      "cell_type": "markdown",
      "metadata": {
        "id": "VNEmTAhHnutI"
      },
      "source": [
        "#### 3\n",
        "\n",
        "Create a variable called filter_criteria to select the appropriate rows from the merged table so that you can sum the rides column."
      ]
    },
    {
      "cell_type": "code",
      "metadata": {
        "id": "gRrlxygUnzmD"
      },
      "source": [
        "# Merge the ridership, cal, and stations tables\n",
        "ridership_cal_stations = ridership.merge(cal, on=['year','month','day']) \\\n",
        "\t\t\t\t\t\t\t.merge(stations, on='station_id')\n",
        "\n",
        "# Create a filter to filter ridership_cal_stations\n",
        "filter_criteria = ((ridership_cal_stations['month'] == 7) \n",
        "                   & (ridership_cal_stations['day_type'] == \"Weekday\") \n",
        "                   & (ridership_cal_stations['station_name'] == \"Wilson\"))\n",
        "\n",
        "# Use .loc and the filter to select for rides\n",
        "print(ridership_cal_stations.loc[filter_criteria, 'rides'].sum())"
      ],
      "execution_count": null,
      "outputs": []
    },
    {
      "cell_type": "markdown",
      "metadata": {
        "id": "W0u_4MWZn1fU"
      },
      "source": [
        "### Three table merge\n",
        "\n",
        "To solidify the concept of a three DataFrame merge, practice another exercise. A reasonable extension of our review of Chicago business data would include looking at demographics information about the neighborhoods where the businesses are. A table with the median income by zip code has been provided to you. You will merge the licenses and wards tables with this new income-by-zip-code table called zip_demo.\n",
        "\n",
        "The licenses, wards, and zip_demo DataFrames have been loaded for you.\n",
        "\n",
        "**Instructions**\n",
        "\n",
        "Starting with the licenses table, merge to it the zip_demo table on the zip column. Then merge the resulting table to the wards table on the ward column. Save result of the three merged tables to a variable named licenses_zip_ward.\n",
        "Group the results of the three merged tables by the column alderman and find the median income."
      ]
    },
    {
      "cell_type": "code",
      "metadata": {
        "id": "vYWIlZ3moCOy"
      },
      "source": [
        "# Merge licenses and zip_demo, on zip; and merge the wards on ward\n",
        "licenses_zip_ward = licenses.merge(zip_demo, on = \"zip\") \\\n",
        "            \t\t\t.merge(wards, on = \"ward\")\n",
        "\n",
        "# Print the results by alderman and show median income\n",
        "print(licenses_zip_ward.groupby(\"alderman\").agg({'income':'median'}))"
      ],
      "execution_count": null,
      "outputs": []
    },
    {
      "cell_type": "markdown",
      "metadata": {
        "id": "Yu4hasyIn7zh"
      },
      "source": [
        "### One-to-many merge with multiple tables\n",
        "\n",
        "In this exercise, assume that you are looking to start a business in the city of Chicago. Your perfect idea is to start a company that uses goats to mow the lawn for other businesses. However, you have to choose a location in the city to put your goat farm. You need a location with a great deal of space and relatively few businesses and people around to avoid complaints about the smell. You will need to merge three tables to help you choose your location. The land_use table has info on the percentage of vacant land by city ward. The census table has population by ward, and the licenses table lists businesses by ward.\n",
        "\n",
        "The land_use, census, and licenses tables have been loaded for you."
      ]
    },
    {
      "cell_type": "markdown",
      "metadata": {
        "id": "PqmHyJlXoNYh"
      },
      "source": [
        "### 1\n",
        "\n",
        "Merge land_use and census on the ward column. Merge the result of this with licenses on the ward column, using the suffix _cen for the left table and _lic for the right table. Save this to the variable land_cen_lic."
      ]
    },
    {
      "cell_type": "code",
      "metadata": {
        "id": "yRHnAg3toQBJ"
      },
      "source": [
        "# Merge land_use and census and merge result with licenses including suffixes\n",
        "land_cen_lic = land_use.merge(census, on = \"ward\") \\\n",
        "        .merge(licenses, on = \"ward\", suffixes = (\"_cen\", \"_lic\"))"
      ],
      "execution_count": null,
      "outputs": []
    },
    {
      "cell_type": "markdown",
      "metadata": {
        "id": "7WxhVwJSoRcS"
      },
      "source": [
        "#### 2\n",
        "\n",
        "Group land_cen_lic by ward, pop_2010 (the population in 2010), and vacant, then count the number of accounts. Save the results to pop_vac_lic."
      ]
    },
    {
      "cell_type": "code",
      "metadata": {
        "id": "b9SLwgENoUkB"
      },
      "source": [
        "# Merge land_use and census and merge result with licenses including suffixes\n",
        "land_cen_lic = land_use.merge(census, on='ward') \\\n",
        "                    .merge(licenses, on='ward', suffixes=('_cen','_lic'))\n",
        "\n",
        "# Group by ward, pop_2010, and vacant, then count the # of accounts\n",
        "pop_vac_lic = land_cen_lic.groupby([\"ward\", \"pop_2010\", \"vacant\"], \n",
        "                                   as_index=False).agg({'account':'count'})"
      ],
      "execution_count": null,
      "outputs": []
    },
    {
      "cell_type": "markdown",
      "metadata": {
        "id": "hE59kyUJoYHX"
      },
      "source": [
        "#### 3\n",
        "\n",
        "Sort pop_vac_lic by vacant, account, andpop_2010 in descending, ascending, and ascending order respectively. Save it as sorted_pop_vac_lic."
      ]
    },
    {
      "cell_type": "code",
      "metadata": {
        "id": "sQ4F_KuoobaQ"
      },
      "source": [
        "# Merge land_use and census and merge result with licenses including suffixes\n",
        "land_cen_lic = land_use.merge(census, on='ward') \\\n",
        "                    .merge(licenses, on='ward', suffixes=('_cen','_lic'))\n",
        "\n",
        "# Group by ward, pop_2010, and vacant, then count the # of accounts\n",
        "pop_vac_lic = land_cen_lic.groupby(['ward','pop_2010','vacant'], \n",
        "                                   as_index=False).agg({'account':'count'})\n",
        "\n",
        "# Sort pop_vac_lic and print the results\n",
        "sorted_pop_vac_lic = pop_vac_lic.sort_values(by = [\"vacant\", \"account\", \"pop_2010\"], \n",
        "                                             ascending=[False, True, True])\n",
        "\n",
        "# Print the top few rows of sorted_pop_vac_lic\n",
        "print(sorted_pop_vac_lic.head())"
      ],
      "execution_count": null,
      "outputs": []
    },
    {
      "cell_type": "markdown",
      "metadata": {
        "id": "M4cCn01ModOT"
      },
      "source": [
        "## Merging tables with different join types"
      ]
    },
    {
      "cell_type": "markdown",
      "metadata": {
        "id": "O3G4l3Dmoz2R"
      },
      "source": [
        "### Counting missing rows with left join\n",
        "\n",
        "The Movie Database is supported by volunteers going out into the world, collecting data, and entering it into the database. This includes financial data, such as movie budget and revenue. If you wanted to know which movies are still missing data, you could use a left join to identify them. Practice using a left join by merging the movies table and the financials table.\n",
        "\n",
        "The movies and financials tables have been loaded for you."
      ]
    },
    {
      "cell_type": "markdown",
      "metadata": {
        "id": "k-LvSvAVo52E"
      },
      "source": [
        "#### 2\n",
        "\n",
        "Merge the movies table, as the left table, with the financials table using a left join, and save the result to movies_financials.\n",
        "\n"
      ]
    },
    {
      "cell_type": "code",
      "metadata": {
        "id": "6JHAcXhhpSlD"
      },
      "source": [
        "# Merge movies and financials with a left join\n",
        "movies_financials = movies.merge(financials, on = 'id', how = 'left')"
      ],
      "execution_count": null,
      "outputs": []
    },
    {
      "cell_type": "markdown",
      "metadata": {
        "id": "mAX9GLqMpWGl"
      },
      "source": [
        "#### 3\n",
        "\n",
        "Count the number of rows in movies_financials with a null value in the budget column."
      ]
    },
    {
      "cell_type": "code",
      "metadata": {
        "id": "UpFgQaHFpaSd"
      },
      "source": [
        "# Merge the movies table with the financials table with a left join\n",
        "movies_financials = movies.merge(financials, on='id', how='left')\n",
        "\n",
        "# Count the number of rows in the budget column that are missing\n",
        "number_of_missing_fin = movies_financials['budget'].isnull().sum()\n",
        "\n",
        "# Print the number of movies missing financials\n",
        "print(number_of_missing_fin)"
      ],
      "execution_count": null,
      "outputs": []
    },
    {
      "cell_type": "markdown",
      "metadata": {
        "id": "EUXbJ-lhpfyx"
      },
      "source": [
        "### Enriching a dataset\n",
        "\n",
        "Setting how='left' with the .merge()method is a useful technique for enriching or enhancing a dataset with additional information from a different table. In this exercise, you will start off with a sample of movie data from the movie series Toy Story. Your goal is to enrich this data by adding the marketing tag line for each movie. You will compare the results of a left join versus an inner join.\n",
        "\n",
        "The toy_story DataFrame contains the Toy Story movies. The toy_story and taglines DataFrames have been loaded for you."
      ]
    },
    {
      "cell_type": "markdown",
      "metadata": {
        "id": "QgAr9WCxplBb"
      },
      "source": [
        "#### 1\n",
        "\n",
        "Merge toy_story and taglines on the id column with a left join, and save the result as toystory_tag."
      ]
    },
    {
      "cell_type": "code",
      "metadata": {
        "id": "137cfCB0pniM"
      },
      "source": [
        "# Merge the toy_story and taglines tables with a left join\n",
        "toystory_tag = toy_story.merge(taglines, on = 'id', how = 'left')\n",
        "\n",
        "# Print the rows and shape of toystory_tag\n",
        "print(toystory_tag)\n",
        "print(toystory_tag.shape)"
      ],
      "execution_count": null,
      "outputs": []
    },
    {
      "cell_type": "markdown",
      "metadata": {
        "id": "T8HeWA2Upqdt"
      },
      "source": [
        "#### 2\n",
        "\n",
        "With toy_story as the left table, merge to it taglines on the id column with an inner join, and save as toystory_tag."
      ]
    },
    {
      "cell_type": "code",
      "metadata": {
        "id": "f8txJ58LpueB"
      },
      "source": [
        "# Merge the toy_story and taglines tables with a inner join\n",
        "toystory_tag = toy_story.merge(taglines, on = \"id\")\n",
        "\n",
        "# Print the rows and shape of toystory_tag\n",
        "print(toystory_tag)\n",
        "print(toystory_tag.shape)"
      ],
      "execution_count": null,
      "outputs": []
    },
    {
      "cell_type": "markdown",
      "metadata": {
        "id": "0372TbKjpyFw"
      },
      "source": [
        "### How many rows with a left join?\n",
        "\n",
        "Select the true statement about left joins.\n",
        "\n",
        "Try running the following code statements in the console.\n",
        "\n",
        "left_table.merge(one_to_one, on='id', how='left').shape\n",
        "left_table.merge(one_to_many, on='id', how='left').shape\n",
        "Note that the left_table starts out with 4 rows.\n",
        "\n",
        "**Answer**\n",
        "\n",
        "The output of a one-to-many merge with a left join will have greater than or equal rows than the left table.\n"
      ]
    },
    {
      "cell_type": "markdown",
      "metadata": {
        "id": "dPgsO8daqMR6"
      },
      "source": [
        "### Right join to find unique movies\n",
        "\n",
        "Most of the recent big-budget science fiction movies can also be classified as action movies. You are given a table of science fiction movies called scifi_movies and another table of action movies called action_movies. Your goal is to find which movies are considered only science fiction movies. Once you have this table, you can merge the movies table in to see the movie names. Since this exercise is related to science fiction movies, use a right join as your superhero power to solve this problem.\n",
        "\n",
        "The movies, scifi_movies, and action_movies tables have been loaded for you."
      ]
    },
    {
      "cell_type": "markdown",
      "metadata": {
        "id": "wScBgICYqSSL"
      },
      "source": [
        "### 1\n",
        "\n",
        "Merge action_movies and scifi_movies tables with a right join on movie_id. Save the result as action_scifi."
      ]
    },
    {
      "cell_type": "code",
      "metadata": {
        "id": "KDJ3ESF7qVB6"
      },
      "source": [
        "# Merge action_movies to scifi_movies with right join\n",
        "action_scifi = action_movies.merge(scifi_movies, on = 'movie_id', how = \"right\")"
      ],
      "execution_count": null,
      "outputs": []
    },
    {
      "cell_type": "markdown",
      "metadata": {
        "id": "fmJiTdQIqXAt"
      },
      "source": [
        "#### 2\n",
        "\n",
        "Update the merge to add suffixes, where '_act' and '_sci' are suffixes for the left and right tables, respectively."
      ]
    },
    {
      "cell_type": "code",
      "metadata": {
        "id": "3C8d-2ikqaAw"
      },
      "source": [
        "# Merge action_movies to scifi_movies with right join\n",
        "action_scifi = action_movies.merge(scifi_movies, on='movie_id', how='right',\n",
        "                                   suffixes = ('_act', '_sci'))\n",
        "\n",
        "# Print the first few rows of action_scifi to see the structure\n",
        "print(action_scifi.head())"
      ],
      "execution_count": null,
      "outputs": []
    },
    {
      "cell_type": "markdown",
      "metadata": {
        "id": "6iPGYddAqczJ"
      },
      "source": [
        "#### 3\n",
        "\n",
        "From action_scifi, subset only the rows where the genre_act column is null."
      ]
    },
    {
      "cell_type": "code",
      "metadata": {
        "id": "nkzlAgUTqew0"
      },
      "source": [
        "# Merge action_movies to the scifi_movies with right join\n",
        "action_scifi = action_movies.merge(scifi_movies, on='movie_id', how='right',\n",
        "                                   suffixes=('_act','_sci'))\n",
        "\n",
        "# From action_scifi, select only the rows where the genre_act column is null\n",
        "scifi_only = action_scifi[action_scifi[\"genre_act\"].isnull()]"
      ],
      "execution_count": null,
      "outputs": []
    },
    {
      "cell_type": "markdown",
      "metadata": {
        "id": "EFL0dYFsqncu"
      },
      "source": [
        "#### 4\n",
        "\n",
        "Merge movies and scifi_only using the id column in the left table and the movie_id column in the right table with an inner join."
      ]
    },
    {
      "cell_type": "code",
      "metadata": {
        "id": "V86KRJmsqqrh"
      },
      "source": [
        "# Merge action_movies to the scifi_movies with right join\n",
        "action_scifi = action_movies.merge(scifi_movies, on='movie_id', how='right',\n",
        "                                   suffixes=('_act','_sci'))\n",
        "\n",
        "# From action_scifi, select only the rows where the genre_act column is null\n",
        "scifi_only = action_scifi[action_scifi['genre_act'].isnull()]\n",
        "\n",
        "# Merge the movies and scifi_only tables with an inner join\n",
        "movies_and_scifi_only = movies.merge(scifi_only, left_on = \"id\", right_on = \"movie_id\")\n",
        "\n",
        "# Print the first few rows and shape of movies_and_scifi_only\n",
        "print(movies_and_scifi_only.head())\n",
        "print(movies_and_scifi_only.shape)"
      ],
      "execution_count": null,
      "outputs": []
    },
    {
      "cell_type": "markdown",
      "metadata": {
        "id": "Jhpz0BCRqtES"
      },
      "source": [
        "### Popular genres with right join\n",
        "\n",
        "What are the genres of the most popular movies? To answer this question, you need to merge data from the movies and movie_to_genres tables. In a table called pop_movies, the top 10 most popular movies in the movies table have been selected. To ensure that you are analyzing all of the popular movies, merge it with the movie_to_genres table using a right join. To complete your analysis, count the number of different genres. Also, the two tables can be merged by the movie ID. However, in pop_movies that column is called id, and in movies_to_genres it's called movie_id.\n",
        "\n",
        "The pop_movies and movie_to_genres tables have been loaded for you.\n",
        "\n",
        "**Instructions**\n",
        "\n",
        "Merge movie_to_genres and pop_movies using a right join. Save the results as genres_movies.\n",
        "Group genres_movies by genre and count the number of id values."
      ]
    },
    {
      "cell_type": "code",
      "metadata": {
        "id": "K_uUrF7Pq45U"
      },
      "source": [
        "# Use right join to merge the movie_to_genres and pop_movies tables\n",
        "genres_movies = movie_to_genres.merge(pop_movies, how='right', \n",
        "                                      left_on = \"movie_id\", \n",
        "                                      right_on = \"id\")\n",
        "\n",
        "# Count the number of genres\n",
        "genre_count = genres_movies.groupby('genre').agg({'id':'count'})\n",
        "\n",
        "# Plot a bar chart of the genre_count\n",
        "genre_count.plot(kind='bar')\n",
        "plt.show()"
      ],
      "execution_count": null,
      "outputs": []
    },
    {
      "cell_type": "markdown",
      "metadata": {
        "id": "Eee0bWctrAbg"
      },
      "source": [
        "### Using outer join to select actors\n",
        "\n",
        "One cool aspect of using an outer join is that, because it returns all rows from both merged tables and null where they do not match, you can use it to find rows that do not have a match in the other table. To try for yourself, you have been given two tables with a list of actors from two popular movies: Iron Man 1 and Iron Man 2. Most of the actors played in both movies. Use an outer join to find actors who did not act in both movies.\n",
        "\n",
        "The Iron Man 1 table is called iron_1_actors, and Iron Man 2 table is called iron_2_actors. Both tables have been loaded for you and a few rows printed so you can see the structure.\n",
        "\n",
        "**Instructions**\n",
        "\n",
        "Save to iron_1_and_2 the merge of iron_1_actors (left) with iron_2_actors tables with an outer join on the id column, and set suffixes to ('_1','_2').\n",
        "Create an index that returns True if name_1 or name_2 are null, and False otherwise."
      ]
    },
    {
      "cell_type": "code",
      "metadata": {
        "id": "lnV7m5C-rMSj"
      },
      "source": [
        "# Merge iron_1_actors to iron_2_actors on id with outer join using suffixes\n",
        "iron_1_and_2 = iron_1_actors.merge(iron_2_actors,\n",
        "                                     on = \"id\",\n",
        "                                     how = \"outer\",\n",
        "                                     suffixes=(\"_1\", \"_2\"))\n",
        "\n",
        "# Create an index that returns true if name_1 or name_2 are null\n",
        "m = ((iron_1_and_2['name_1'].isnull()) | \n",
        "     (iron_1_and_2['name_2'].isnull()))\n",
        "\n",
        "# Print the first few rows of iron_1_and_2\n",
        "print(iron_1_and_2[m].head())"
      ],
      "execution_count": null,
      "outputs": []
    },
    {
      "cell_type": "markdown",
      "metadata": {
        "id": "tlPVl2n_rUMX"
      },
      "source": [
        "### Self join\n",
        "\n",
        "Merging a table to itself can be useful when you want to compare values in a column to other values in the same column. In this exercise, you will practice this by creating a table that for each movie will list the movie director and a member of the crew on one row. You have been given a table called crews, which has columns id, job, and name. First, merge the table to itself using the movie ID. This merge will give you a larger table where for each movie, every job is matched against each other. Then select only those rows with a director in the left table, and avoid having a row where the director's job is listed in both the left and right tables. This filtering will remove job combinations that aren't with the director.\n",
        "\n",
        "The crews table has been loaded for you."
      ]
    },
    {
      "cell_type": "markdown",
      "metadata": {
        "id": "ilx6TPPxraVt"
      },
      "source": [
        "#### 1\n",
        "\n",
        "To a variable called crews_self_merged, merge the crews table to itself on the id column using an inner join, setting the suffixes to '_dir' and '_crew' for the left and right tables respectively."
      ]
    },
    {
      "cell_type": "code",
      "metadata": {
        "id": "Ell0-pX-regl"
      },
      "source": [
        "# Merge the crews table to itself\n",
        "crews_self_merged = crews.merge(crews, on = \"id\", suffixes = ('_dir', '_crew'))"
      ],
      "execution_count": null,
      "outputs": []
    },
    {
      "cell_type": "markdown",
      "metadata": {
        "id": "8lq7a9-trgVI"
      },
      "source": [
        "#### 2\n",
        "\n",
        "Create a Boolean index, named boolean_filter, that selects rows from the left table with the job of 'Director' and avoids rows with the job of 'Director' in the right table."
      ]
    },
    {
      "cell_type": "code",
      "metadata": {
        "id": "hk-3AHLQrkhj"
      },
      "source": [
        "# Merge the crews table to itself\n",
        "crews_self_merged = crews.merge(crews, on='id', how='inner',\n",
        "                                suffixes=('_dir','_crew'))\n",
        "\n",
        "# Create a Boolean index to select the appropriate\n",
        "boolean_filter = ((crews_self_merged['job_dir'] == \"Director\") & \n",
        "     (crews_self_merged['job_crew'] != \"Director\"))\n",
        "direct_crews = crews_self_merged[boolean_filter]"
      ],
      "execution_count": null,
      "outputs": []
    },
    {
      "cell_type": "markdown",
      "metadata": {
        "id": "HdWB_GG1rmiw"
      },
      "source": [
        "#### 3\n",
        "\n",
        "Use the .head() method to print the first few rows of direct_crews."
      ]
    },
    {
      "cell_type": "code",
      "metadata": {
        "id": "fR1jB7Zqrus2"
      },
      "source": [
        "# Merge the crews table to itself\n",
        "crews_self_merged = crews.merge(crews, on='id', how='inner',\n",
        "                                suffixes=('_dir','_crew'))\n",
        "\n",
        "# Create a boolean index to select the appropriate rows\n",
        "boolean_filter = ((crews_self_merged['job_dir'] == 'Director') & \n",
        "                  (crews_self_merged['job_crew'] != 'Director'))\n",
        "direct_crews = crews_self_merged[boolean_filter]\n",
        "\n",
        "# Print the first few rows of direct_crews\n",
        "print(direct_crews.head())"
      ],
      "execution_count": null,
      "outputs": []
    },
    {
      "cell_type": "markdown",
      "metadata": {
        "id": "cN78jPEMrwTv"
      },
      "source": [
        "### Index merge for movie ratings\n",
        "\n",
        "To practice merging on indexes, you will merge movies and a table called ratings that holds info about movie ratings. Make sure your merge returns all of the rows from the movies table and not all the rows of ratings table need to be included in the result.\n",
        "\n",
        "The movies and ratings tables have been loaded for you.\n",
        "\n",
        "**Instructions**\n",
        "\n",
        "Merge movies and ratings on the index and save to a variable called movies_ratings, ensuring that all of the rows from the movies table are returned."
      ]
    },
    {
      "cell_type": "code",
      "metadata": {
        "id": "BSd2_Rq1sTJc"
      },
      "source": [
        "# Merge to the movies table the ratings table on the index\n",
        "movies_ratings = movies.merge(ratings, on = 'id')\n",
        "\n",
        "# Print the first few rows of movies_ratings\n",
        "print(movies_ratings.head())"
      ],
      "execution_count": null,
      "outputs": []
    },
    {
      "cell_type": "markdown",
      "metadata": {
        "id": "ErQWAL0HsY91"
      },
      "source": [
        "### Do sequels earn more?\n",
        "\n",
        "It is time to put together many of the aspects that you have learned in this chapter. In this exercise, you'll find out which movie sequels earned the most compared to the original movie. To answer this question, you will merge a modified version of the sequels and financials tables where their index is the movie ID. You will need to choose a merge type that will return all of the rows from the sequels table and not all the rows of financials table need to be included in the result. From there, you will join the resulting table to itself so that you can compare the revenue values of the original movie to the sequel. Next, you will calculate the difference between the two revenues and sort the resulting dataset.\n",
        "\n",
        "The sequels and financials tables have been provided."
      ]
    },
    {
      "cell_type": "markdown",
      "metadata": {
        "id": "ykf5BYtesb8e"
      },
      "source": [
        "#### 1\n",
        "\n",
        "With the sequels table on the left, merge to it the financials table on index named id, ensuring that all the rows from the sequels are returned and some rows from the other table may not be returned, Save the results to sequels_fin."
      ]
    },
    {
      "cell_type": "code",
      "metadata": {
        "id": "5jvbJm5GshZS"
      },
      "source": [
        "# Merge sequels and financials on index id\n",
        "sequels_fin = sequels.merge(financials, on = 'id', how = 'left')"
      ],
      "execution_count": null,
      "outputs": []
    },
    {
      "cell_type": "markdown",
      "metadata": {
        "id": "YLxI3EfOsjlS"
      },
      "source": [
        "#### 2\n",
        "\n",
        "Merge the sequels_fin table to itself with an inner join, where the left and right tables merge on sequel and id respectively with suffixes equal to ('_org','_seq'), saving to orig_seq."
      ]
    },
    {
      "cell_type": "code",
      "metadata": {
        "id": "h_910-9Tsv08"
      },
      "source": [
        "# Merge sequels and financials on index id\n",
        "sequels_fin = sequels.merge(financials, on='id', how='left')\n",
        "\n",
        "# Self merge with suffixes as inner join with left on sequel and right on id\n",
        "orig_seq = sequels_fin.merge(sequels_fin, how=\"inner\", left_on=\"sequel\", \n",
        "                             right_on=\"id\", right_index=True,\n",
        "                             suffixes=('_org','_seq'))\n",
        "\n",
        "# Add calculation to subtract revenue_org from revenue_seq \n",
        "orig_seq['diff'] = orig_seq['revenue_seq'] - orig_seq['revenue_org']"
      ],
      "execution_count": null,
      "outputs": []
    },
    {
      "cell_type": "markdown",
      "metadata": {
        "id": "mBEvccxXsxhd"
      },
      "source": [
        "#### 3\n",
        "\n",
        "Select the title_org, title_seq, and diff columns of orig_seq and save this as titles_diff."
      ]
    },
    {
      "cell_type": "code",
      "metadata": {
        "id": "QKRo9XV3s4MD"
      },
      "source": [
        "# Merge sequels and financials on index id\n",
        "sequels_fin = sequels.merge(financials, on='id', how='left')\n",
        "\n",
        "# Self merge with suffixes as inner join with left on sequel and right on id\n",
        "orig_seq = sequels_fin.merge(sequels_fin, how='inner', left_on='sequel', \n",
        "                             right_on='id', right_index=True,\n",
        "                             suffixes=('_org','_seq'))\n",
        "\n",
        "# Add calculation to subtract revenue_org from revenue_seq \n",
        "orig_seq['diff'] = orig_seq['revenue_seq'] - orig_seq['revenue_org']\n",
        "\n",
        "# Select the title_org, title_seq, and diff \n",
        "titles_diff = orig_seq[[\"title_org\", \"title_seq\", \"diff\"]]"
      ],
      "execution_count": null,
      "outputs": []
    },
    {
      "cell_type": "markdown",
      "metadata": {
        "id": "cS_X676Es6hy"
      },
      "source": [
        "#### 4\n",
        "\n",
        "Sort by titles_diff by diff in descending order and print the first few rows."
      ]
    },
    {
      "cell_type": "code",
      "metadata": {
        "id": "Yf4x46Hvs-F0"
      },
      "source": [
        "# Merge sequels and financials on index id\n",
        "sequels_fin = sequels.merge(financials, on='id', how='left')\n",
        "\n",
        "# Self merge with suffixes as inner join with left on sequel and right on id\n",
        "orig_seq = sequels_fin.merge(sequels_fin, how='inner', left_on='sequel', \n",
        "                             right_on='id', right_index=True,\n",
        "                             suffixes=('_org','_seq'))\n",
        "\n",
        "# Add calculation to subtract revenue_org from revenue_seq \n",
        "orig_seq['diff'] = orig_seq['revenue_seq'] - orig_seq['revenue_org']\n",
        "\n",
        "# Select the title_org, title_seq, and diff \n",
        "titles_diff = orig_seq[['title_org','title_seq','diff']]\n",
        "\n",
        "# Print the first rows of the sorted titles_diff\n",
        "print(titles_diff.sort_values(by = \"diff\", ascending = False).head())"
      ],
      "execution_count": null,
      "outputs": []
    },
    {
      "cell_type": "markdown",
      "metadata": {
        "id": "aC1Hzepss_9t"
      },
      "source": [
        "## Advanced Merging and Concatenating"
      ]
    },
    {
      "cell_type": "markdown",
      "metadata": {
        "id": "jfb7iuFU7jPM"
      },
      "source": [
        "### Steps of a semi-join\n",
        "\n",
        "In the last video, you were shown how to perform a semi-join with pandas. In this exercise, you'll solidify your understanding of the necessary steps. Recall that a semi-join filters the left table to only the rows where a match exists in both the left and right tables.\n",
        "\n",
        "**Instructions**\n",
        "Sort the steps in the correct order of the technique shown to perform a semi-join in pandas.\n",
        "\n",
        "**Answer**\n",
        "Merge the left and right tables on key column using an inner-join.\n",
        "\n",
        "Search if the key column in the left table is in the merged tables using the .isin() method creating a Boolean Series.\n",
        "\n",
        "Subset the rows of the left table."
      ]
    },
    {
      "cell_type": "code",
      "metadata": {
        "id": "D0yxw6iP-W4X"
      },
      "source": [
        "# Example\n",
        "genres_tracks = genres.merge(top_tracks, on='gid', how='left', indicator=True)\n",
        "gid_list = genres_tracks.loc[genres_tracks['_merge'] == 'left_only','gid']\n",
        "non_top_genres = genres[genres['gid'].isin(gid_list)]\n",
        "print(non_top_genres.head())\n"
      ],
      "execution_count": null,
      "outputs": []
    },
    {
      "cell_type": "markdown",
      "metadata": {
        "id": "U2zuGg048dAp"
      },
      "source": [
        "### Performing and anti-join\n",
        "\n",
        "In our music streaming company dataset, each customer is assigned an employee representative to assist them. In this exercise, filter the employee table by a table of top customers, returning only those employees who are not assigned to a customer. The results should resemble the results of an anti-join. The company's leadership will assign these employees additional training so that they can work with high valued customers.\n",
        "\n",
        "The top_cust and employees tables have been provided for you."
      ]
    },
    {
      "cell_type": "markdown",
      "metadata": {
        "id": "6PoAYBan8t4D"
      },
      "source": [
        "#### 1\n",
        "\n",
        "Merge employees and top_cust with a left join, setting indicator argument to True. Save the result to empl_cust."
      ]
    },
    {
      "cell_type": "code",
      "metadata": {
        "id": "QZli_otM84d5"
      },
      "source": [
        "# Merge employees and top_cust\n",
        "empl_cust = employees.merge(top_cust, on=\"srid\", \n",
        "                            how=\"left\", indicator=True)"
      ],
      "execution_count": null,
      "outputs": []
    },
    {
      "cell_type": "markdown",
      "metadata": {
        "id": "rkD0RrKd9WfQ"
      },
      "source": [
        "#### 4\n",
        "\n",
        "Select the srid column of empl_cust and the rows where _merge is 'left_only'. Save the result to srid_list."
      ]
    },
    {
      "cell_type": "code",
      "metadata": {
        "id": "4pDzT5V89ZvU"
      },
      "source": [
        "# Select the srid column where _merge is left_only\n",
        "srid_list = empl_cust.loc[empl_cust[\"_merge\"] == \"left_only\", 'srid']"
      ],
      "execution_count": null,
      "outputs": []
    },
    {
      "cell_type": "markdown",
      "metadata": {
        "id": "QFLpmkJq9kdp"
      },
      "source": [
        "#### 3\n",
        "\n",
        "Subset the employees table and select those rows where the srid is in the variable srid_list and print the results."
      ]
    },
    {
      "cell_type": "code",
      "metadata": {
        "id": "HZPOYdOP9lz7"
      },
      "source": [
        "# Get employees not working with top customers\n",
        "print(employees[employees[\"srid\"].isin(srid_list)])"
      ],
      "execution_count": null,
      "outputs": []
    },
    {
      "cell_type": "markdown",
      "metadata": {
        "id": "V5vbBPG6-sPA"
      },
      "source": [
        "### Performing a semi-join\n",
        "\n",
        "Some of the tracks that have generated the most significant amount of revenue are from TV-shows or are other non-musical audio. You have been given a table of invoices that include top revenue-generating items. Additionally, you have a table of non-musical tracks from the streaming service. In this exercise, you'll use a semi-join to find the top revenue-generating non-musical tracks..\n",
        "\n",
        "The tables non_mus_tcks, top_invoices, and genres have been loaded for you.\n",
        "\n",
        "**Instructions**\n",
        "\n",
        "- Merge non_mus_tcks and top_invoices on tid using an inner join. Save the result as tracks_invoices.\n",
        "\n",
        "- Use .isin() to subset the rows of non_mus_tck where tid is in the tid column of tracks_invoices. Save the result as top_tracks.\n",
        "\n",
        "- Group top_tracks by gid and count the tid rows. Save the result to cnt_by_gid.\n",
        "\n",
        "- Merge cnt_by_gid with the genres table on gid and print the result."
      ]
    },
    {
      "cell_type": "code",
      "metadata": {
        "id": "Lp3Jf541_IYo"
      },
      "source": [
        "# Merge the non_mus_tcks and top_invoices tables on tid\n",
        "tracks_invoices = non_mus_tcks.merge(top_invoices, on='tid')\n",
        "\n",
        "# Use .isin() to subset non_mus_tcks to rows with tid in tracks_invoices\n",
        "top_tracks = non_mus_tcks[non_mus_tcks['tid'].isin(tracks_invoices['tid'])]\n",
        "\n",
        "# Group the top_tracks by gid and count the tid rows\n",
        "cnt_by_gid = top_tracks.groupby(['gid'], as_index=False).agg({'tid':'count'})\n",
        "\n",
        "# Merge the genres table to cnt_by_gid on gid and print\n",
        "print(cnt_by_gid.merge(genres, on='gid'))"
      ],
      "execution_count": null,
      "outputs": []
    },
    {
      "cell_type": "markdown",
      "metadata": {
        "id": "WKHs1shy4r6J"
      },
      "source": [
        "## Merging Ordered and Time-Series Data\n",
        "\n",
        "In this final chapter, you’ll step up a gear and learn to apply pandas' specialized methods for merging time-series and ordered data together with real-world financial and economic data from the city of Chicago. You’ll also learn how to query resulting tables using a SQL-style format, and unpivot data using the melt method."
      ]
    },
    {
      "cell_type": "markdown",
      "metadata": {
        "id": "n36s-kbV42t8"
      },
      "source": [
        "### Sumary\n",
        "\n",
        ".merge() method\n",
        "- Columns to join on:\n",
        "** on, left_on, right_on\n",
        "\n",
        "- Type of join\n",
        "** how (left, right, inner, outer)\n",
        "** **default** inner\n",
        "- Overlapping column names\n",
        "** suffixes\n",
        "- Calling the method\n",
        "** df1.merge(df2)\n",
        "\n",
        "Differents with merge_ordered() method:\n",
        "\n",
        "- **Default** type of join: outer.\n",
        "- Calling the function: pd.merge_ordered(df1, df2)"
      ]
    }
  ]
}