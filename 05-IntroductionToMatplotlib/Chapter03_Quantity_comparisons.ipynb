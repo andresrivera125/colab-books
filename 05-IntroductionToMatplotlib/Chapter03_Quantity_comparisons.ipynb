{
  "nbformat": 4,
  "nbformat_minor": 0,
  "metadata": {
    "colab": {
      "name": "Chapter03-Quantity-comparisons.ipynb",
      "provenance": [],
      "toc_visible": true,
      "authorship_tag": "ABX9TyMDcHas+UdyfU22Y9G8NwsL",
      "include_colab_link": true
    },
    "kernelspec": {
      "name": "python3",
      "display_name": "Python 3"
    }
  },
  "cells": [
    {
      "cell_type": "markdown",
      "metadata": {
        "id": "view-in-github",
        "colab_type": "text"
      },
      "source": [
        "<a href=\"https://colab.research.google.com/github/andresrivera125/colab-books/blob/main/05-IntroductionToMatplotlib/Chapter03_Quantity_comparisons.ipynb\" target=\"_parent\"><img src=\"https://colab.research.google.com/assets/colab-badge.svg\" alt=\"Open In Colab\"/></a>"
      ]
    },
    {
      "cell_type": "markdown",
      "metadata": {
        "id": "CrNQB61Xnwup"
      },
      "source": [
        "# Chapter 01 - Introduction to data visualization with Matplotlib"
      ]
    },
    {
      "cell_type": "markdown",
      "metadata": {
        "id": "rH88yWeazB0E"
      },
      "source": [
        "## Introduction to data visualization with Matplotlib\n",
        "\n",
        "**Example**\n",
        "\n",
        "```\n",
        "fig, ax = plt.subplots()\n",
        "ax.plot(seattle_weather[\"MONTH\"], seattle_weather[\"MLY-TAVG-NORMAL\"])\n",
        "ax.plot(austin_weather[\"MONTH\"], austin_weather[\"MLY-TAVG-NORMAL\"])\n",
        "plt.show()\n",
        "```\n",
        "\n",
        "The last code will show a linear F with both data (seattle and austin) for the columns MONTH vs MLY-TAVG-NORMAL."
      ]
    },
    {
      "cell_type": "markdown",
      "metadata": {
        "id": "hqPgmMeKNQKB"
      },
      "source": [
        "### Using the matplotlib.pyplot interface\n",
        "\n",
        "There are many ways to use Matplotlib. In this course, we will focus on the pyplot interface, which provides the most flexibility in creating and customizing data visualizations.\n",
        "\n",
        "Initially, we will use the pyplot interface to create two kinds of objects: Figure objects and Axes objects.\n",
        "\n",
        "This course introduces a lot of new concepts, so if you ever need a quick refresher, download the Matplotlib Cheat Sheet and keep it handy!\n",
        "\n",
        "**Instructions**\n",
        "\n",
        "- Import the matplotlib.pyplot API, using the conventional name plt.\n",
        "\n",
        "- Create Figure and Axes objects using the plt.subplots function.\n",
        "\n",
        "- Show the results, an empty set of axes, using the plt.show function."
      ]
    },
    {
      "cell_type": "code",
      "metadata": {
        "id": "mhlUworOOERV"
      },
      "source": [
        "# Import the matplotlib.pyplot submodule and name it plt\n",
        "import matplotlib.pyplot as plt\n",
        "\n",
        "# Create a Figure and an Axes with plt.subplots\n",
        "fig, ax = plt.subplots()\n",
        "\n",
        "# Call the show function to show the result\n",
        "plt.show()"
      ],
      "execution_count": null,
      "outputs": []
    },
    {
      "cell_type": "markdown",
      "metadata": {
        "id": "5hD6grtdOORe"
      },
      "source": [
        "### Adding data to an Axes object\n",
        "\n",
        "Adding data to a figure is done by calling methods of the Axes object. In this exercise, we will use the plot method to add data about rainfall in two American cities: Seattle, WA and Austin, TX.\n",
        "\n",
        "The data are stored in two Pandas DataFrame objects that are already loaded into memory: seattle_weather stores information about the weather in Seattle, and austin_weather stores information about the weather in Austin. Each of the data frames has a MONTHS column that stores the three-letter name of the months. Each also has a column named \"MLY-PRCP-NORMAL\" that stores the average rainfall in each month during a ten-year period.\n",
        "\n",
        "In this exercise, you will create a visualization that will allow you to compare the rainfall in these two cities.\n",
        "\n",
        "**Instructions**\n",
        "\n",
        "- Import the matplotlib.pyplot submodule as plt.\n",
        "- Create a Figure and an Axes object by calling plt.subplots.\n",
        "- Add data from the seattle_weather DataFrame by calling the Axes plot method.\n",
        "- Add data from the austin_weather DataFrame in a similar manner and call plt.show to show the results."
      ]
    },
    {
      "cell_type": "code",
      "metadata": {
        "id": "H_CzKOZWOdSU"
      },
      "source": [
        "# Import the matplotlib.pyplot submodule and name it plt\n",
        "import matplotlib.pyplot as plt\n",
        "\n",
        "# Create a Figure and an Axes with plt.subplots\n",
        "fig, ax = plt.subplots()\n",
        "\n",
        "# Plot MLY-PRCP-NORMAL from seattle_weather against the MONTH\n",
        "ax.plot(seattle_weather[\"MONTH\"], seattle_weather[\"MLY-PRCP-NORMAL\"])\n",
        "\n",
        "# Plot MLY-PRCP-NORMAL from austin_weather against MONTH\n",
        "ax.plot(austin_weather[\"MONTH\"], austin_weather[\"MLY-PRCP-NORMAL\"])\n",
        "\n",
        "# Call the show function\n",
        "plt.show()"
      ],
      "execution_count": null,
      "outputs": []
    },
    {
      "cell_type": "markdown",
      "metadata": {
        "id": "j5AOvS7U3s-M"
      },
      "source": [
        "### Customizing your plots\n",
        "\n",
        "ax.plot(seattle_weather[\"MONTH\"],\n",
        "  seattle_weather[\"MLY_PRCP_NORMAL\"],\n",
        "  marker='o',\n",
        "  linestyle=\"--\",\n",
        "  color=\"r\")\n",
        "\n",
        "# Axes labels\n",
        "ax.set_xlabel(\"Time (months)\")\n",
        "ax.set_ylabel(\"Average temperature (Fahrenheit degrees)\")\n",
        "ax.set_title(\"Weather in Seattle\")\n",
        "plt.show()\n",
        "\n",
        "marker could be 'o' or 'v'\n",
        "linestyle: \"--\", None\n",
        "color: \"r\" to red\n",
        "\n",
        "Here more markers and linestyles:\n",
        "\n",
        "- [Markers](https//matplotlib.org/api/markers_api.html)\n",
        "\n",
        "- [Linestyles](https//matplotlib.org/gallery/lines_bars_and_markers/line_styles_reference.html)"
      ]
    },
    {
      "cell_type": "markdown",
      "metadata": {
        "id": "edFVUBpQ6DEY"
      },
      "source": [
        "### Exercise - Customizing data appearance\n",
        "\n",
        "We can customize the appearance of data in our plots, while adding the data to the plot, using key-word arguments to the plot command.\n",
        "\n",
        "In this exercise, you will customize the appearance of the markers, the linestyle that is used, and the color of the lines and markers for your data.\n",
        "\n",
        "As before, the data is already provided in Pandas DataFrame objects loaded into memory: seattle_weather and austin_weather. These each have a MONTHS column and a \"MLY-PRCP-NORMAL\" that you will plot against each other.\n",
        "\n",
        "In addition, a Figure object named fig and an Axes object named ax have already been created for you.\n",
        "\n",
        "**Instructions**\n",
        "\n",
        "- Call plt.plot to plot \"MLY-PRCP-NORMAL\" against \"MONTHS\" in both DataFrames.\n",
        "\n",
        "- Pass the color key-word arguments to these commands to set the color of the Seattle data to blue ('b') and the Austin data to red ('r').\n",
        "\n",
        "- Pass the marker key-word arguments to these commands to set the Seattle data to circle markers ('o') and the Austin markers to triangles pointing downwards ('v').\n",
        "\n",
        "- Pass the linestyle key-word argument to use dashed lines for the data from both cities ('--')."
      ]
    },
    {
      "cell_type": "code",
      "metadata": {
        "id": "PHdnM_mG6QOj"
      },
      "source": [
        "# Plot Seattle data, setting data appearance\n",
        "ax.plot(seattle_weather[\"MONTH\"], seattle_weather[\"MLY-PRCP-NORMAL\"], color=\"b\", marker=\"o\", linestyle=\"--\")\n",
        "\n",
        "# Plot Austin data, setting data appearance\n",
        "ax.plot(austin_weather[\"MONTH\"], austin_weather[\"MLY-PRCP-NORMAL\"], color=\"r\", marker=\"v\", linestyle=\"--\")\n",
        "\n",
        "# Call show to display the resulting plot\n",
        "plt.show()"
      ],
      "execution_count": null,
      "outputs": []
    },
    {
      "cell_type": "markdown",
      "metadata": {
        "id": "nzM-GqTa6zHe"
      },
      "source": [
        "## Small multiples\n",
        "\n",
        "## Two dimension subplot\n",
        "```\n",
        "fig, ax = plt.subplots(3, 2)\n",
        "ax.shape\n",
        "ax[0, 0].plot(seattle_weather[\"MONTH\"],\n",
        "  seattle_weather[\"MLY-PRCP-NORMAL\"],\n",
        "  color='b')\n",
        "plt.show()\n",
        "```\n",
        "\n",
        "## One dimension subplot\n",
        "### The option sharey is to keep the same range to both subplots\n",
        "\n",
        "```\n",
        "fig, ax = plt.subplots(2, 1. sharey=True)\n",
        "ax.shape\n",
        "ax[0].plot(seattle_weather[\"MONTH\"],\n",
        "  seattle_weather[\"MLY-PRCP-NORMAL\"],\n",
        "  color='b')\n",
        "ax[0].plot(seattle_weather[\"MONTH\"],\n",
        "  seattle_weather[\"MLY-PRCP-25PCTL\"],\n",
        "  color='b',\n",
        "  linestyle='--')\n",
        "ax[0].plot(seattle_weather[\"MONTH\"],\n",
        "  seattle_weather[\"MLY-PRCP-75PCTL\"],\n",
        "  color='b',\n",
        "  linestyle='--')\n",
        "ax[0].set_ylabel(\"Precipitation (inches)\")\n",
        "\n",
        "ax[1].plot(austin_weather[\"MONTH\"],\n",
        "  austin_weather[\"MLY-PRCP-NORMAL\"],\n",
        "  color='r')\n",
        "ax[1].plot(austin_weather[\"MONTH\"],\n",
        "  austin_weather[\"MLY-PRCP-25PCTL\"],\n",
        "  color='r',\n",
        "  linestyle='--')\n",
        "ax[1].plot(austin_weather[\"MONTH\"],\n",
        "  austin_weather[\"MLY-PRCP-75PCTL\"],\n",
        "  color='r',\n",
        "  linestyle='--')\n",
        "ax[1].set_ylabel(\"Precipitation (inches)\")\n",
        "```\n",
        "\n",
        "### It is just require one xlabel due to the dimension\n",
        "\n",
        "```\n",
        "ax[1].set_xlabel(\"Time (months)\")\n",
        "plt.show()\n",
        "```"
      ]
    },
    {
      "cell_type": "markdown",
      "metadata": {
        "id": "GsfYvHF7BlWf"
      },
      "source": [
        "## Plotting time-series data\n",
        "\n",
        "```\n",
        "import matplotlib.pyplot as plt\n",
        "\n",
        "fig, ax = plt.subplots()\n",
        "\n",
        "ax.plot(climate_change.index, climate_change['co2'])\n",
        "ax.set_xlabel('Time')\n",
        "ax.set_ylabel('CO2 (ppm)')\n",
        "plt.show()\n",
        "```\n",
        "\n",
        "## Zooming in on a decade\n",
        "\n",
        "```\n",
        "sixties = climate_change[\"1960-01-01\":\"1969-12-31\"]\n",
        "ax.plot(sixties.index, sixties['co2'])\n",
        "ax.set_xlabel('Time')\n",
        "ax.set_ylabel('CO2 (ppm)')\n",
        "plt.show()\n",
        "```\n"
      ]
    },
    {
      "cell_type": "markdown",
      "metadata": {
        "id": "EFZpqRVScXUS"
      },
      "source": [
        "### Read data with a time index\n",
        "\n",
        "Using pd.read_csv with and index and with the parameter parse_dates in True\n",
        "\n",
        "```\n",
        "# Import pandas as pd\n",
        "import pandas as pd\n",
        "\n",
        "# Read the data from file using read_csv\n",
        "climate_change = pd.read_csv('climate_change.csv', parse_dates = True, index_col='date')\n",
        "```"
      ]
    },
    {
      "cell_type": "markdown",
      "metadata": {
        "id": "jiq_fyrccniA"
      },
      "source": [
        "### Plotting time-series with differents variables\n",
        "\n",
        "```\n",
        "import pandas as pd\n",
        "\n",
        "climate_change = pd.read_csv('climate_change.csv',\n",
        "        parse_dates=['date'],\n",
        "        index_col=\"date\")\n",
        "```\n",
        "\n",
        "## Using twin axes\n",
        "\n",
        "To have the same scale for two axes.\n",
        "```\n",
        "import matplotlib.pyplot as plt\n",
        "\n",
        "fig, ax = plt.subplots()\n",
        "ax.plot(climate_change.index, climate_change[\"co2\"], color='blue')\n",
        "ax.set_xlabel(\"Time\")\n",
        "ax.set_ylabel('CO2 (ppm)', color='blue')\n",
        "ax.tick_params('y', colors='blue')\n",
        "\n",
        "# Using twinx method\n",
        "ax2 = ax.twinx()\n",
        "ax2.plot(climate_change.index, climate_change[\"relative_temp\"], color='red')\n",
        "ax2.set_ylabel('Relative temperature (Celsius)', color='red')\n",
        "ax2.tick_params('y', colors='red')\n",
        "plt.show()\n",
        "```\n",
        "\n",
        "It will show one y-axis scale on the left, for the co2 variable, and another y-axis scale to the right for the tempeture variable.\n",
        "\n",
        "You can use a function to simplify the code:\n",
        "\n",
        "```\n",
        "def plot_timeseries(axes, x, y, color, xlabel, ylabel):\n",
        "  axes.plot(x, y, color=color)\n",
        "  axes.set_xlabel(xlabel)\n",
        "  axes.set_ylabel(ylabel)\n",
        "  axes.tick_params('y', colors=color)\n",
        "\n",
        "\n",
        "fig, ax = plt.subplots()\n",
        "plot_timeseries(ax, climate_change.index, climate_change['co2'], 'blue', 'Time', 'CO2 (ppm)')\n",
        "\n",
        "ax2 = ax.twinx()\n",
        "plot_timeseries(ax2, climate_change.index, climate_change['relative_temp'], 'red', 'Time', 'Relative temperature (Celsius)')\n",
        "plt.show()\n",
        "```"
      ]
    },
    {
      "cell_type": "markdown",
      "metadata": {
        "id": "Km0e-YLyoXAk"
      },
      "source": [
        "#Chapter 02 - Annotations"
      ]
    },
    {
      "cell_type": "markdown",
      "metadata": {
        "id": "dinGpq64j9k8"
      },
      "source": [
        "## Annotating time-series data\n",
        "\n",
        "```\n",
        "fig, ax = plt.subplots()\n",
        "xlabel = \"Time\"\n",
        "plot_timeseries(ax, climate_change.index, climate_change['co2'], 'blue', xlabel, 'CO2 (ppm)')\n",
        "\n",
        "ax2 = ax.twinx()\n",
        "plot_timeseries(ax2, climate_change.index, climate_change['relative_temp'], 'red', xlabel, 'Relative temperature (Celsius)')\n",
        "\n",
        "# Here the annotation\n",
        "# With the parameter xytext we locate correctly\n",
        "# the annotation\n",
        "ax2.annotate(\">1 degree\", \n",
        "    xy=[pd.Timestamp(\"2015-10-06\"), 1],\n",
        "    xytext=[pd.Timestamp(\"2008-10-06\"), -0.2],\n",
        ")\n",
        "plt.show()\n",
        "```"
      ]
    },
    {
      "cell_type": "markdown",
      "metadata": {
        "id": "T9lqPkMHm567"
      },
      "source": [
        "### The arrow property\n",
        "\n",
        "[More about annotations](https://matplotlib.org/users/annotations.html)\n",
        "\n",
        "### How to use the arrowprops\n",
        "\n",
        "```\n",
        "# Using the default values\n",
        "ax2.annotate(\">1 degree\", \n",
        "    xy=[pd.Timestamp(\"2015-10-06\"), 1],\n",
        "    xytext=[pd.Timestamp(\"2008-10-06\"), -0.2],\n",
        "    arrowprops={}\n",
        ")\n",
        "```\n",
        "\n",
        "```\n",
        "# Using customize values\n",
        "ax2.annotate(\">1 degree\", \n",
        "    xy=[pd.Timestamp(\"2015-10-06\"), 1],\n",
        "    xytext=[pd.Timestamp(\"2008-10-06\"), -0.2],\n",
        "    arrowprops={\"arrowstyle\":\"->\", \"color\":\"gray\"}\n",
        ")\n",
        "```"
      ]
    },
    {
      "cell_type": "markdown",
      "metadata": {
        "id": "OKgENPhhohoY"
      },
      "source": [
        "# Chapter 03 - Quantitative comparisons"
      ]
    },
    {
      "cell_type": "markdown",
      "metadata": {
        "id": "lbLRNiyTtI9A"
      },
      "source": [
        "## Bar-charts\n",
        "\n",
        "```\n",
        "medals = pd.read_csv('medals_by_country_2016.csv',\n",
        "    index_col=0\n",
        ")\n",
        "\n",
        "fig, ax = plt.subplots()\n",
        "ax.bar(medals.index, \n",
        "      medals[\"Gold\"], \n",
        "      label=\"Gold\")\n",
        "\n",
        "ax.bar(medals.index, \n",
        "      medals[\"Silver\"], \n",
        "      bottom=medals[\"Gold\"], \n",
        "      label=\"Silver\")\n",
        "\n",
        "ax.bar(medals.index, \n",
        "      medals[\"Bronze\"], \n",
        "      bottom=medals[\"Gold\"] + medals[\"Silver\"], \n",
        "      label=\"Bronze\")\n",
        "\n",
        "ax.set_xticklabels(medals.index, rotation=90)\n",
        "ax.set_ylabel(\"Number of medals\")\n",
        "ax.legend() # This line add the label\n",
        "plt.show()\n",
        "```"
      ]
    },
    {
      "cell_type": "markdown",
      "metadata": {
        "id": "ut-5_Cy4vtj1"
      },
      "source": [
        "Histograms\n",
        "\n",
        "- **A bart chart again**\n",
        "\n",
        "```\n",
        "fig, ax = plt.subplots()\n",
        "ax.bar(\"Rowing\", mens_rowing[\"Height\"].mean())\n",
        "ax.bar(\"Gymnastics\", mens_gymnastics[\"Height\"].mean())\n",
        "ax.set_ylabel(\"Height (cm)\")\n",
        "plt.show()\n",
        "```\n",
        "\n",
        "- An histogram would instead show the full distribution of values within each variable\n",
        "\n",
        "- In the histogram shown, the x-axis is the values within the variable and the height of the bars represents the number of observations within a particular bin of values.\n",
        "\n",
        "```\n",
        "fig, ax = plt.subplots()\n",
        "ax.hist(mens_rowing[\"Height\"], label=\"Rowing\")\n",
        "ax.hist(mens_gymnastic[\"Height\"], label=\"Gymnastics\")\n",
        "ax.set_xlabel(\"Height (cm)\")\n",
        "ax.set_ylabel(\"# of observations\")\n",
        "\n",
        "# We call the legend() method to show the labels\n",
        "ax.legend()\n",
        "\n",
        "plt.show\n",
        "```\n",
        "\n",
        "- **Customizing histograms**\n",
        "\n",
        "The number of bars by default is 10.  We can change that providing the key-word bins.\n",
        "\n",
        "```\n",
        "# For this example, the number of bins was customized in 5\n",
        "ax.hist(mens_rowing[\"Height\"], \n",
        "    label=\"Rowing\", \n",
        "    bins=5)\n",
        "ax.hist(mens_gymnastic[\"Height\"], \n",
        "    label=\"Gymnastics\",\n",
        "    bins=5)\n",
        "```\n",
        "\n",
        "We can provide a sequence of values, these numbers will be set to be the boundaries between the bins, as shown here.\n",
        "\n",
        "```\n",
        "# range will be generated an array\n",
        "# with the following values:\n",
        "# [150, 160, 170, 180, 190, 200, 210]\n",
        "bins_values = list(range(150, 210, 10)\n",
        "ax.hist(mens_rowing[\"Height\"], \n",
        "    label=\"Rowing\", \n",
        "    bins=bins_values)\n",
        "ax.hist(mens_gymnastic[\"Height\"], \n",
        "    label=\"Gymnastics\",\n",
        "    bins=bins_values)\n",
        "```\n",
        "\n",
        "- **Customizing transparency**\n",
        "\n",
        "We can use the key-word histtype to change the apperance of the bar and could see hiding information that could be tranlapping and occulting with the default type \"Bar\".\n",
        "\n",
        "```\n",
        "# For this example, we will set histtype up\n",
        "# in \"step\" that it means it will be shown lines instead of solid bars.\n",
        "\n",
        "bins_values = list(range(150, 210, 10)\n",
        "ax.hist(mens_rowing[\"Height\"], \n",
        "    label=\"Rowing\", \n",
        "    bins=bins_values,\n",
        "    histtype=\"step\")\n",
        "ax.hist(mens_gymnastic[\"Height\"], \n",
        "    label=\"Gymnastics\",\n",
        "    bins=bins_values,\n",
        "    histtype=\"step\")\n",
        "```"
      ]
    }
  ]
}