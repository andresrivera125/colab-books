{
  "nbformat": 4,
  "nbformat_minor": 0,
  "metadata": {
    "colab": {
      "name": "Chapter01-IntroductionToDataVisualization.ipynb",
      "provenance": [],
      "toc_visible": true,
      "authorship_tag": "ABX9TyOF4iog94WmLz7W2xx6WOZc",
      "include_colab_link": true
    },
    "kernelspec": {
      "name": "python3",
      "display_name": "Python 3"
    }
  },
  "cells": [
    {
      "cell_type": "markdown",
      "metadata": {
        "id": "view-in-github",
        "colab_type": "text"
      },
      "source": [
        "<a href=\"https://colab.research.google.com/github/andresrivera125/colab-books/blob/main/05-IntroductionToMatplotlib/Chapter01_IntroductionToDataVisualization.ipynb\" target=\"_parent\"><img src=\"https://colab.research.google.com/assets/colab-badge.svg\" alt=\"Open In Colab\"/></a>"
      ]
    },
    {
      "cell_type": "markdown",
      "metadata": {
        "id": "rH88yWeazB0E"
      },
      "source": [
        "# Introduction to data visualization with Matplotlib\n",
        "\n",
        "**Example**\n",
        "\n",
        "```\n",
        "fig, ax = plt.subplots()\n",
        "ax.plot(seattle_weather[\"MONTH\"], seattle_weather[\"MLY-TAVG-NORMAL\"])\n",
        "ax.plot(austin_weather[\"MONTH\"], austin_weather[\"MLY-TAVG-NORMAL\"])\n",
        "plt.show()\n",
        "```\n",
        "\n",
        "The last code will show a linear F with both data (seattle and austin) for the columns MONTH vs MLY-TAVG-NORMAL."
      ]
    },
    {
      "cell_type": "markdown",
      "metadata": {
        "id": "hqPgmMeKNQKB"
      },
      "source": [
        "## Using the matplotlib.pyplot interface\n",
        "\n",
        "There are many ways to use Matplotlib. In this course, we will focus on the pyplot interface, which provides the most flexibility in creating and customizing data visualizations.\n",
        "\n",
        "Initially, we will use the pyplot interface to create two kinds of objects: Figure objects and Axes objects.\n",
        "\n",
        "This course introduces a lot of new concepts, so if you ever need a quick refresher, download the Matplotlib Cheat Sheet and keep it handy!\n",
        "\n",
        "**Instructions**\n",
        "\n",
        "- Import the matplotlib.pyplot API, using the conventional name plt.\n",
        "\n",
        "- Create Figure and Axes objects using the plt.subplots function.\n",
        "\n",
        "- Show the results, an empty set of axes, using the plt.show function."
      ]
    },
    {
      "cell_type": "code",
      "metadata": {
        "id": "mhlUworOOERV"
      },
      "source": [
        "# Import the matplotlib.pyplot submodule and name it plt\n",
        "import matplotlib.pyplot as plt\n",
        "\n",
        "# Create a Figure and an Axes with plt.subplots\n",
        "fig, ax = plt.subplots()\n",
        "\n",
        "# Call the show function to show the result\n",
        "plt.show()"
      ],
      "execution_count": null,
      "outputs": []
    },
    {
      "cell_type": "markdown",
      "metadata": {
        "id": "5hD6grtdOORe"
      },
      "source": [
        "## Adding data to an Axes object\n",
        "\n",
        "Adding data to a figure is done by calling methods of the Axes object. In this exercise, we will use the plot method to add data about rainfall in two American cities: Seattle, WA and Austin, TX.\n",
        "\n",
        "The data are stored in two Pandas DataFrame objects that are already loaded into memory: seattle_weather stores information about the weather in Seattle, and austin_weather stores information about the weather in Austin. Each of the data frames has a MONTHS column that stores the three-letter name of the months. Each also has a column named \"MLY-PRCP-NORMAL\" that stores the average rainfall in each month during a ten-year period.\n",
        "\n",
        "In this exercise, you will create a visualization that will allow you to compare the rainfall in these two cities.\n",
        "\n",
        "**Instructions**\n",
        "\n",
        "- Import the matplotlib.pyplot submodule as plt.\n",
        "- Create a Figure and an Axes object by calling plt.subplots.\n",
        "- Add data from the seattle_weather DataFrame by calling the Axes plot method.\n",
        "- Add data from the austin_weather DataFrame in a similar manner and call plt.show to show the results."
      ]
    },
    {
      "cell_type": "code",
      "metadata": {
        "id": "H_CzKOZWOdSU"
      },
      "source": [
        "# Import the matplotlib.pyplot submodule and name it plt\n",
        "import matplotlib.pyplot as plt\n",
        "\n",
        "# Create a Figure and an Axes with plt.subplots\n",
        "fig, ax = plt.subplots()\n",
        "\n",
        "# Plot MLY-PRCP-NORMAL from seattle_weather against the MONTH\n",
        "ax.plot(seattle_weather[\"MONTH\"], seattle_weather[\"MLY-PRCP-NORMAL\"])\n",
        "\n",
        "# Plot MLY-PRCP-NORMAL from austin_weather against MONTH\n",
        "ax.plot(austin_weather[\"MONTH\"], austin_weather[\"MLY-PRCP-NORMAL\"])\n",
        "\n",
        "# Call the show function\n",
        "plt.show()"
      ],
      "execution_count": null,
      "outputs": []
    }
  ]
}