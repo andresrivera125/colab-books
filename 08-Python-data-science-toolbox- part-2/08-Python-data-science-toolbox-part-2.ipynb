{
  "nbformat": 4,
  "nbformat_minor": 0,
  "metadata": {
    "colab": {
      "name": "IntroductionToSeaborn.ipynb",
      "provenance": [],
      "toc_visible": true,
      "authorship_tag": "ABX9TyNzRc0tfm9hdCNjNuKkKJiS",
      "include_colab_link": true
    },
    "kernelspec": {
      "name": "python3",
      "display_name": "Python 3"
    }
  },
  "cells": [
    {
      "cell_type": "markdown",
      "metadata": {
        "id": "view-in-github",
        "colab_type": "text"
      },
      "source": [
        "<a href=\"https://colab.research.google.com/github/andresrivera125/colab-books/blob/main/08-Python-data-science-toolbox-%20part-2/08-Python-data-science-toolbox-part-2.ipynb\" target=\"_parent\"><img src=\"https://colab.research.google.com/assets/colab-badge.svg\" alt=\"Open In Colab\"/></a>"
      ]
    },
    {
      "cell_type": "markdown",
      "metadata": {
        "id": "pXJ7pDivY1UP"
      },
      "source": [
        "# Chapter 01 - Writing your own functions\n",
        "\n"
      ]
    },
    {
      "cell_type": "markdown",
      "metadata": {
        "id": "-B6ulK6LsnTT"
      },
      "source": [
        "## User-defined functions\n",
        "\n",
        "- Defining a function\n",
        "\n",
        "```\n",
        "def square():\n",
        "  new_value = 4 ** 2\n",
        "  print(new_value)\n",
        "```\n",
        "\n",
        "- Calling a function\n",
        "\n",
        "```\n",
        "square()\n",
        "```\n",
        "\n",
        "- Function parameters\n",
        "\n",
        "```\n",
        "def square(value):\n",
        "  new_value = value ** 2\n",
        "  print(new_value)\n",
        "```\n",
        "\n",
        "- Returning values\n",
        "\n",
        "```\n",
        "def square(value):\n",
        "  new_value = value ** 2\n",
        "  return new_value\n",
        "\n",
        "\n",
        "value = square(3)\n",
        "print(value)\n",
        "```\n",
        "\n",
        "- Docstrings\n",
        "\n",
        "  - Docstrings describe what your function does\n",
        "  - Serve as documentation for your function\n",
        "  - Placed in the immediate line after the function header\n",
        "  - In between triple double quotes \"\"\""
      ]
    },
    {
      "cell_type": "code",
      "metadata": {
        "id": "3zb3PqpDuQ9d",
        "colab": {
          "base_uri": "https://localhost:8080/"
        },
        "outputId": "a071d2df-569d-4c8a-f0b2-8ac1678441e9"
      },
      "source": [
        "def square(value):\n",
        "  \"\"\"Return the square of a giving value.\"\"\"\n",
        "  result = value ** 2\n",
        "  return result\n",
        "\n",
        "\n",
        "if __name__ == '__main__':\n",
        "  print(\"The square of 3 is: \", square(3))"
      ],
      "execution_count": null,
      "outputs": [
        {
          "output_type": "stream",
          "text": [
            "The square of 3 is:  9\n"
          ],
          "name": "stdout"
        }
      ]
    },
    {
      "cell_type": "markdown",
      "metadata": {
        "id": "uSoTHe8PxsEE"
      },
      "source": [
        "## Multiple arguments and return values\n",
        "\n",
        "- Tuples\n",
        "\n",
        "even_nums = (2, 4, 6)\n",
        "\n",
        "- Destructuring tuples (or unpacking tuples)\n",
        "\n",
        "a, b, c = even_nums\n",
        "\n",
        "- You can access tuple values by it index.\n",
        "\n",
        "a = even_nums[0]\n",
        "b = even_nums[1]\n",
        "c = even_nums[2]"
      ]
    },
    {
      "cell_type": "code",
      "metadata": {
        "id": "LpuYww7ay8tU",
        "colab": {
          "base_uri": "https://localhost:8080/"
        },
        "outputId": "1b44af95-4f5a-41ff-f5e1-5753206ad825"
      },
      "source": [
        "## Returning multiple values\n",
        "\n",
        "def raise_both(a, b):\n",
        "  \"\"\"Raise a to the power of b\n",
        "  and vice versa.\"\"\"\n",
        "\n",
        "  a_power_b = a ** b\n",
        "  b_power_a = b ** a\n",
        "\n",
        "  return (a_power_b, b_power_a)\n",
        "\n",
        "if __name__ == \"__main__\":\n",
        "  a = 3\n",
        "  b = 2\n",
        "  a_power_b, b_power_a = raise_both(a, b)\n",
        "  print(a, \" power \", b, \" = \", a_power_b)\n",
        "  print(b, \" power \", a, \" = \", b_power_a)"
      ],
      "execution_count": null,
      "outputs": [
        {
          "output_type": "stream",
          "text": [
            "3  power  2  =  9\n",
            "2  power  3  =  8\n"
          ],
          "name": "stdout"
        }
      ]
    },
    {
      "cell_type": "markdown",
      "metadata": {
        "id": "Tv1W4HxG1lv1"
      },
      "source": [
        "## Bringing it all together"
      ]
    },
    {
      "cell_type": "code",
      "metadata": {
        "id": "mQ57jXJrUPic"
      },
      "source": [
        "# Define count_entries()\n",
        "def count_entries(df, col_name):\n",
        "    \"\"\"Return a dictionary with counts of \n",
        "    occurrences as value for each key.\"\"\"\n",
        "\n",
        "    # Initialize an empty dictionary: langs_count\n",
        "    langs_count = {}\n",
        "    \n",
        "    # Extract column from DataFrame: col\n",
        "    col = df[col_name]\n",
        "    \n",
        "    # Iterate over lang column in DataFrame\n",
        "    for entry in col:\n",
        "\n",
        "        # If the language is in langs_count, add 1\n",
        "        if entry in langs_count.keys():\n",
        "            langs_count[entry] += 1\n",
        "        # Else add the language to langs_count, set the value to 1\n",
        "        else:\n",
        "            langs_count[entry] = 1\n",
        "\n",
        "    # Return the langs_count dictionary\n",
        "    return langs_count\n",
        "\n",
        "if __name__ == '__main__':\n",
        "  # Call count_entries(): result\n",
        "  result = count_entries(tweets_df, 'lang')\n",
        "\n",
        "  # Print the result\n",
        "  print(result)"
      ],
      "execution_count": null,
      "outputs": []
    },
    {
      "cell_type": "markdown",
      "metadata": {
        "id": "ch4wwSJGUgPe"
      },
      "source": [
        "# Default arguments, variable-length arguments and scope"
      ]
    },
    {
      "cell_type": "markdown",
      "metadata": {
        "id": "8uZWbICJUmJ2"
      },
      "source": [
        "## Scope and user-defined functions\n",
        "\n",
        "- Global vs local scope.\n",
        "- Built In functions"
      ]
    },
    {
      "cell_type": "code",
      "metadata": {
        "colab": {
          "base_uri": "https://localhost:8080/"
        },
        "id": "ALKm_4ErX0WA",
        "outputId": "14d576d1-e95c-4ab0-c30b-6e2833cc2ce9"
      },
      "source": [
        "# To list the built in functions\n",
        "\n",
        "import builtins\n",
        "\n",
        "print(dir(builtins))"
      ],
      "execution_count": 1,
      "outputs": [
        {
          "output_type": "stream",
          "text": [
            "['ArithmeticError', 'AssertionError', 'AttributeError', 'BaseException', 'BlockingIOError', 'BrokenPipeError', 'BufferError', 'BytesWarning', 'ChildProcessError', 'ConnectionAbortedError', 'ConnectionError', 'ConnectionRefusedError', 'ConnectionResetError', 'DeprecationWarning', 'EOFError', 'Ellipsis', 'EnvironmentError', 'Exception', 'False', 'FileExistsError', 'FileNotFoundError', 'FloatingPointError', 'FutureWarning', 'GeneratorExit', 'IOError', 'ImportError', 'ImportWarning', 'IndentationError', 'IndexError', 'InterruptedError', 'IsADirectoryError', 'KeyError', 'KeyboardInterrupt', 'LookupError', 'MemoryError', 'ModuleNotFoundError', 'NameError', 'None', 'NotADirectoryError', 'NotImplemented', 'NotImplementedError', 'OSError', 'OverflowError', 'PendingDeprecationWarning', 'PermissionError', 'ProcessLookupError', 'RecursionError', 'ReferenceError', 'ResourceWarning', 'RuntimeError', 'RuntimeWarning', 'StopAsyncIteration', 'StopIteration', 'SyntaxError', 'SyntaxWarning', 'SystemError', 'SystemExit', 'TabError', 'TimeoutError', 'True', 'TypeError', 'UnboundLocalError', 'UnicodeDecodeError', 'UnicodeEncodeError', 'UnicodeError', 'UnicodeTranslateError', 'UnicodeWarning', 'UserWarning', 'ValueError', 'Warning', 'ZeroDivisionError', '__IPYTHON__', '__build_class__', '__debug__', '__doc__', '__import__', '__loader__', '__name__', '__package__', '__spec__', 'abs', 'all', 'any', 'ascii', 'bin', 'bool', 'breakpoint', 'bytearray', 'bytes', 'callable', 'chr', 'classmethod', 'compile', 'complex', 'copyright', 'credits', 'delattr', 'dict', 'dir', 'display', 'divmod', 'dreload', 'enumerate', 'eval', 'exec', 'filter', 'float', 'format', 'frozenset', 'get_ipython', 'getattr', 'globals', 'hasattr', 'hash', 'help', 'hex', 'id', 'input', 'int', 'isinstance', 'issubclass', 'iter', 'len', 'license', 'list', 'locals', 'map', 'max', 'memoryview', 'min', 'next', 'object', 'oct', 'open', 'ord', 'pow', 'print', 'property', 'range', 'repr', 'reversed', 'round', 'set', 'setattr', 'slice', 'sorted', 'staticmethod', 'str', 'sum', 'super', 'tuple', 'type', 'vars', 'zip']\n"
          ],
          "name": "stdout"
        }
      ]
    },
    {
      "cell_type": "markdown",
      "metadata": {
        "id": "0yhKA516YBxV"
      },
      "source": [
        "## Nested functions\n",
        "\n",
        "- Closure"
      ]
    },
    {
      "cell_type": "code",
      "metadata": {
        "colab": {
          "base_uri": "https://localhost:8080/"
        },
        "id": "y0VaQPXoYwfA",
        "outputId": "46107e23-b195-453f-b23f-30791a30b801"
      },
      "source": [
        "def raise_val(n):\n",
        "  \"\"\"Return the inner function.\"\"\"\n",
        "\n",
        "  def inner(x):\n",
        "    \"\"\"Raise x to the power of n.\"\"\"\n",
        "    return x ** n\n",
        "\n",
        "  \n",
        "  return inner\n",
        "\n",
        "\n",
        "if __name__ == \"__main__\":\n",
        "  square = raise_val(2)\n",
        "  cube = raise_val(3)\n",
        "\n",
        "  print(\"Square of 2: \", square(2))\n",
        "  print(\"Cube of 2: \", cube(2))\n"
      ],
      "execution_count": 2,
      "outputs": [
        {
          "output_type": "stream",
          "text": [
            "Square of 2:  4\n",
            "Cube of 2:  8\n"
          ],
          "name": "stdout"
        }
      ]
    },
    {
      "cell_type": "markdown",
      "metadata": {
        "id": "UYNCN9IYbC-M"
      },
      "source": [
        "## Default and flexible arguments"
      ]
    },
    {
      "cell_type": "code",
      "metadata": {
        "colab": {
          "base_uri": "https://localhost:8080/"
        },
        "id": "vIxH8bTQbH2W",
        "outputId": "02ac3098-c07f-4b7e-e984-46f9dc85e991"
      },
      "source": [
        "def power(number, pow=1):\n",
        "  \"\"\"Raise number to the power of pow.\"\"\"\n",
        "  new_value = number ** pow\n",
        "  return new_value\n",
        "\n",
        "\n",
        "if __name__ == \"__main__\":\n",
        "  print(power(9, 2))\n",
        "  print(power(9))\n",
        "\n"
      ],
      "execution_count": 3,
      "outputs": [
        {
          "output_type": "stream",
          "text": [
            "81\n",
            "9\n"
          ],
          "name": "stdout"
        }
      ]
    },
    {
      "cell_type": "markdown",
      "metadata": {
        "id": "tnz3WWrIblv8"
      },
      "source": [
        "### Flexible arguments"
      ]
    },
    {
      "cell_type": "code",
      "metadata": {
        "colab": {
          "base_uri": "https://localhost:8080/"
        },
        "id": "PbbbvL9VbqAP",
        "outputId": "f42af41b-ce4d-4142-88b0-0f7b9b14cf83"
      },
      "source": [
        "def add_all(*args):\n",
        "  \"\"\"Sum all args in *args together.\"\"\"\n",
        "\n",
        "  #Initialize sum\n",
        "  sum_all = 0\n",
        "\n",
        "  #Accumulate the sum\n",
        "  for num in args:\n",
        "    sum_all += num\n",
        "  \n",
        "\n",
        "  return sum_all\n",
        "\n",
        "\n",
        "print(\"Sum of [1, 2, 3, 4, 5, 6, 7, 8, 9, 10] = \",\n",
        "      add_all(1, 2, 3, 4, 5, 6, 7, 8, 9, 10))"
      ],
      "execution_count": 5,
      "outputs": [
        {
          "output_type": "stream",
          "text": [
            "Sum of [1, 2, 3, 4, 5, 6, 7, 8, 9, 10] =  55\n"
          ],
          "name": "stdout"
        }
      ]
    },
    {
      "cell_type": "code",
      "metadata": {
        "colab": {
          "base_uri": "https://localhost:8080/"
        },
        "id": "aBpYLlttd6fY",
        "outputId": "c9dbc3fc-5dc5-444d-e7ad-2f0dfbb0ae22"
      },
      "source": [
        "# Define shout_echo\n",
        "def shout_echo(word1, echo=1):\n",
        "    \"\"\"Concatenate echo copies of word1 and three\n",
        "     exclamation marks at the end of the string.\"\"\"\n",
        "\n",
        "    # Concatenate echo copies of word1 using *: echo_word\n",
        "    echo_word = word1 * echo\n",
        "\n",
        "    # Concatenate '!!!' to echo_word: shout_word\n",
        "    shout_word = echo_word + '!!!'\n",
        "\n",
        "    # Return shout_word\n",
        "    return shout_word\n",
        "\n",
        "\n",
        "# Call shout_echo() with \"Hey\": no_echo\n",
        "no_echo = shout_echo(\"Hey\")\n",
        "print(no_echo)\n",
        "\n",
        "# Call shout_echo() with \"Hey\" and echo=5: with_echo\n",
        "with_echo = shout_echo(echo=5, word1=\"Hey\")\n",
        "print(with_echo)"
      ],
      "execution_count": 11,
      "outputs": [
        {
          "output_type": "stream",
          "text": [
            "Hey!!!\n",
            "HeyHeyHeyHeyHey!!!\n"
          ],
          "name": "stdout"
        }
      ]
    },
    {
      "cell_type": "markdown",
      "metadata": {
        "id": "xhFwzxpAclcq"
      },
      "source": [
        "### Flexible arguments: **kwargs"
      ]
    },
    {
      "cell_type": "code",
      "metadata": {
        "colab": {
          "base_uri": "https://localhost:8080/"
        },
        "id": "i-031cCUcquF",
        "outputId": "fe5f3ead-2de6-45a4-d10f-b9fe635681be"
      },
      "source": [
        "def print_all(**kwargs):\n",
        "  \"\"\"Print out key-value pairs in **kwargs.\"\"\"\n",
        "\n",
        "  #Print out the key-value pairs\n",
        "  for key, value in kwargs.items():\n",
        "    print(key + \": \" + value)\n",
        "\n",
        "\n",
        "if __name__ == \"__main__\":\n",
        "  print_all(name=\"Dumbledore\", job=\"Headmaster\")"
      ],
      "execution_count": 7,
      "outputs": [
        {
          "output_type": "stream",
          "text": [
            "name: Dumbledore\n",
            "job: Headmaster\n"
          ],
          "name": "stdout"
        }
      ]
    },
    {
      "cell_type": "code",
      "metadata": {
        "colab": {
          "base_uri": "https://localhost:8080/"
        },
        "id": "9XMvFcr-fANd",
        "outputId": "bfc8be12-53b9-451e-bcca-9df775b774db"
      },
      "source": [
        "# Define shout_echo\n",
        "def shout_echo(word1, echo=1, intense=False):\n",
        "    \"\"\"Concatenate echo copies of word1 and three\n",
        "    exclamation marks at the end of the string.\"\"\"\n",
        "\n",
        "    # Concatenate echo copies of word1 using *: echo_word\n",
        "    echo_word = word1 * echo\n",
        "\n",
        "    # Make echo_word uppercase if intense is True\n",
        "    if intense is True:\n",
        "        # Make uppercase and concatenate '!!!': echo_word_new\n",
        "        echo_word_new = echo_word.upper() + '!!!'\n",
        "    else:\n",
        "        # Concatenate '!!!' to echo_word: echo_word_new\n",
        "        echo_word_new = echo_word + '!!!'\n",
        "\n",
        "    # Return echo_word_new\n",
        "    return echo_word_new\n",
        "\n",
        "\n",
        "if __name__ == \"__main__\":\n",
        "  # Call shout_echo() with \"Hey\", echo=5 and intense=True: with_big_echo\n",
        "  with_big_echo = shout_echo(word1=\"Hey\", echo=5, intense=True)\n",
        "\n",
        "  # Call shout_echo() with \"Hey\" and intense=True: big_no_echo\n",
        "  big_no_echo = shout_echo(word1=\"Hey\", intense=True)\n",
        "\n",
        "  # Print values\n",
        "  print(with_big_echo)\n",
        "  print(big_no_echo)"
      ],
      "execution_count": 12,
      "outputs": [
        {
          "output_type": "stream",
          "text": [
            "HEYHEYHEYHEYHEY!!!\n",
            "HEY!!!\n"
          ],
          "name": "stdout"
        }
      ]
    },
    {
      "cell_type": "markdown",
      "metadata": {
        "id": "sQaygLChgBcF"
      },
      "source": [
        "## Bringing it all together"
      ]
    },
    {
      "cell_type": "code",
      "metadata": {
        "id": "aGhdoLerhMh2"
      },
      "source": [
        "# Define count_entries()\n",
        "def count_entries(df, *args):\n",
        "    \"\"\"Return a dictionary with counts of\n",
        "    occurrences as value for each key.\"\"\"\n",
        "    \n",
        "    #Initialize an empty dictionary: cols_count\n",
        "    cols_count = {}\n",
        "    \n",
        "    # Iterate over column names in args\n",
        "    for col_name in args:\n",
        "    \n",
        "        # Extract column from DataFrame: col\n",
        "        col = df[col_name]\n",
        "    \n",
        "        # Iterate over the column in DataFrame\n",
        "        for entry in col:\n",
        "    \n",
        "            # If entry is in cols_count, add 1\n",
        "            if entry in cols_count.keys():\n",
        "                cols_count[entry] += 1\n",
        "    \n",
        "            # Else add the entry to cols_count, set the value to 1\n",
        "            else:\n",
        "                cols_count[entry] = 1\n",
        "\n",
        "    # Return the cols_count dictionary\n",
        "    return cols_count\n",
        "\n",
        "# Call count_entries(): result1\n",
        "result1 = count_entries(tweets_df, 'lang')\n",
        "\n",
        "# Call count_entries(): result2\n",
        "result2 = count_entries(tweets_df, 'lang', 'source')\n",
        "\n",
        "# Print result1 and result2\n",
        "print(result1)\n",
        "print(result2)"
      ],
      "execution_count": null,
      "outputs": []
    },
    {
      "cell_type": "markdown",
      "metadata": {
        "id": "IvtHEcPThWir"
      },
      "source": [
        "# Chapter 03 - Lambda functions and error-handling"
      ]
    },
    {
      "cell_type": "markdown",
      "metadata": {
        "id": "DVWzoLwXhbq8"
      },
      "source": [
        "## Lambda functions"
      ]
    },
    {
      "cell_type": "code",
      "metadata": {
        "colab": {
          "base_uri": "https://localhost:8080/"
        },
        "id": "5xz4n5_Cho5n",
        "outputId": "d1a97e1e-7cfe-40ad-a872-adc8394bf658"
      },
      "source": [
        "raise_to_power = lambda x, y: x ** y\n",
        "\n",
        "print(\"2 raise to power 3 = \", raise_to_power(2, 3))"
      ],
      "execution_count": 13,
      "outputs": [
        {
          "output_type": "stream",
          "text": [
            "2 raise to power 3 =  8\n"
          ],
          "name": "stdout"
        }
      ]
    },
    {
      "cell_type": "code",
      "metadata": {
        "colab": {
          "base_uri": "https://localhost:8080/"
        },
        "id": "OsFqxFdyiF-u",
        "outputId": "ef427941-d90a-46fc-93d9-b40d33779da3"
      },
      "source": [
        "# Example with map function\n",
        "nums = [1, 2, 3, 4, 5, 6]\n",
        "square_all = map(lambda num: num ** 2, nums)\n",
        "print(square_all)\n",
        "print(list(square_all))"
      ],
      "execution_count": 15,
      "outputs": [
        {
          "output_type": "stream",
          "text": [
            "<map object at 0x7f2b488ac810>\n",
            "[1, 4, 9, 16, 25, 36]\n"
          ],
          "name": "stdout"
        }
      ]
    },
    {
      "cell_type": "code",
      "metadata": {
        "colab": {
          "base_uri": "https://localhost:8080/"
        },
        "id": "woZniKUqjFye",
        "outputId": "a1872b4c-0f90-4253-ae4d-e6b56e20811d"
      },
      "source": [
        "# Define echo_word as a lambda function: echo_word\n",
        "echo_word = (lambda word1, echo: word1 * echo)\n",
        "\n",
        "# Call echo_word: result\n",
        "result = echo_word('hey', 5)\n",
        "\n",
        "# Print result\n",
        "print(result)"
      ],
      "execution_count": 16,
      "outputs": [
        {
          "output_type": "stream",
          "text": [
            "heyheyheyheyhey\n"
          ],
          "name": "stdout"
        }
      ]
    },
    {
      "cell_type": "code",
      "metadata": {
        "colab": {
          "base_uri": "https://localhost:8080/"
        },
        "id": "q3Sl1wPIjarW",
        "outputId": "3babe9fd-094d-4465-f763-42476e241ac7"
      },
      "source": [
        "# Create a list of strings: spells\n",
        "spells = [\"protego\", \"accio\", \"expecto patronum\", \"legilimens\"]\n",
        "\n",
        "# Use map() to apply a lambda function over spells: shout_spells\n",
        "shout_spells = map(lambda item: item + '!!!', spells)\n",
        "\n",
        "# Convert shout_spells to a list: shout_spells_list\n",
        "shout_spells_list = list(shout_spells)\n",
        "\n",
        "# Print the result\n",
        "print(shout_spells_list)"
      ],
      "execution_count": 17,
      "outputs": [
        {
          "output_type": "stream",
          "text": [
            "['protego!!!', 'accio!!!', 'expecto patronum!!!', 'legilimens!!!']\n"
          ],
          "name": "stdout"
        }
      ]
    },
    {
      "cell_type": "code",
      "metadata": {
        "id": "cugYgv7Oj8Qj"
      },
      "source": [
        "# Create a list of strings: fellowship\n",
        "fellowship = ['frodo', 'samwise', 'merry', 'pippin', 'aragorn', 'boromir', 'legolas', 'gimli', 'gandalf']\n",
        "\n",
        "# Use filter() to apply a lambda function over fellowship: result\n",
        "result = filter(lambda member: len(member) > 6, fellowship)\n",
        "\n",
        "# Convert result to a list: result_list\n",
        "result_list = list(result)\n",
        "\n",
        "# Print result_list\n",
        "print(result_list)"
      ],
      "execution_count": null,
      "outputs": []
    },
    {
      "cell_type": "code",
      "metadata": {
        "colab": {
          "base_uri": "https://localhost:8080/"
        },
        "id": "SC6LBHySkk-s",
        "outputId": "2fa5c555-0602-4bd4-aa98-2e0ddb5a5aec"
      },
      "source": [
        "# Import reduce from functools\n",
        "from functools import reduce\n",
        "\n",
        "# Create a list of strings: stark\n",
        "stark = ['robb', 'sansa', 'arya', 'brandon', 'rickon']\n",
        "\n",
        "# Use reduce() to apply a lambda function over stark: result\n",
        "result = reduce(lambda item1, item2: item1 + \", \" + item2, stark)\n",
        "\n",
        "# Print the result\n",
        "print(result)"
      ],
      "execution_count": 18,
      "outputs": [
        {
          "output_type": "stream",
          "text": [
            "robb, sansa, arya, brandon, rickon\n"
          ],
          "name": "stdout"
        }
      ]
    },
    {
      "cell_type": "markdown",
      "metadata": {
        "id": "R9gLlzKKk9BS"
      },
      "source": [
        "## Error-handling"
      ]
    },
    {
      "cell_type": "markdown",
      "metadata": {
        "id": "Ly-IApQlo8pH"
      },
      "source": [
        "### Try-except"
      ]
    },
    {
      "cell_type": "code",
      "metadata": {
        "colab": {
          "base_uri": "https://localhost:8080/",
          "height": 52
        },
        "id": "uxps-Gr-opf9",
        "outputId": "9dee7fe9-3efb-4d77-8eab-b48e152e1439"
      },
      "source": [
        "# Define shout_echo\n",
        "def shout_echo(word1, echo=1):\n",
        "    \"\"\"Concatenate echo copies of word1 and three\n",
        "    exclamation marks at the end of the string.\"\"\"\n",
        "\n",
        "    # Initialize empty strings: echo_word, shout_words\n",
        "    echo_word = \"\" \n",
        "    shout_words = \"\"\n",
        "    \n",
        "\n",
        "    # Add exception handling with try-except\n",
        "    try:\n",
        "        # Concatenate echo copies of word1 using *: echo_word\n",
        "        echo_word = word1 * echo\n",
        "\n",
        "        # Concatenate '!!!' to echo_word: shout_words\n",
        "        shout_words = echo_word + \"!!!\"\n",
        "    except:\n",
        "        # Print error message\n",
        "        print(\"word1 must be a string and echo must be an integer.\")\n",
        "\n",
        "    # Return shout_words\n",
        "    return shout_words\n",
        "\n",
        "# Call shout_echo\n",
        "shout_echo(\"particle\", echo=\"accelerator\")"
      ],
      "execution_count": 19,
      "outputs": [
        {
          "output_type": "stream",
          "text": [
            "word1 must be a string and echo must be an integer.\n"
          ],
          "name": "stdout"
        },
        {
          "output_type": "execute_result",
          "data": {
            "application/vnd.google.colaboratory.intrinsic+json": {
              "type": "string"
            },
            "text/plain": [
              "''"
            ]
          },
          "metadata": {
            "tags": []
          },
          "execution_count": 19
        }
      ]
    },
    {
      "cell_type": "markdown",
      "metadata": {
        "id": "6vqkyIBipAGI"
      },
      "source": [
        "### Raise an error"
      ]
    },
    {
      "cell_type": "code",
      "metadata": {
        "id": "RBflZDJJpF-k"
      },
      "source": [
        "# Define shout_echo\n",
        "def shout_echo(word1, echo=1):\n",
        "    \"\"\"Concatenate echo copies of word1 and three\n",
        "    exclamation marks at the end of the string.\"\"\"\n",
        "\n",
        "    # Raise an error with raise\n",
        "    if echo <= 0:\n",
        "        raise ValueError(\"echo must be greater than or equal to 0\")\n",
        "\n",
        "    # Concatenate echo copies of word1 using *: echo_word\n",
        "    echo_word = word1 * echo\n",
        "\n",
        "    # Concatenate '!!!' to echo_word: shout_word\n",
        "    shout_word = echo_word + '!!!'\n",
        "\n",
        "    # Return shout_word\n",
        "    return shout_word\n",
        "\n",
        "# Call shout_echo\n",
        "shout_echo(\"particle\", echo=5)"
      ],
      "execution_count": null,
      "outputs": []
    },
    {
      "cell_type": "code",
      "metadata": {
        "id": "sSxq3fgFqyXj"
      },
      "source": [
        "# Define count_entries()\n",
        "def count_entries(df, col_name='lang'):\n",
        "    \"\"\"Return a dictionary with counts of\n",
        "    occurrences as value for each key.\"\"\"\n",
        "    \n",
        "    # Raise a ValueError if col_name is NOT in DataFrame\n",
        "    if col_name not in df.columns:\n",
        "        if col_name not in df:\n",
        "            raise ValueError('The DataFrame does not have a ' + col_name + ' column.')\n",
        "\n",
        "    # Initialize an empty dictionary: cols_count\n",
        "    cols_count = {}\n",
        "    \n",
        "    # Extract column from DataFrame: col\n",
        "    col = df[col_name]\n",
        "    \n",
        "    # Iterate over the column in DataFrame\n",
        "    for entry in col:\n",
        "\n",
        "        # If entry is in cols_count, add 1\n",
        "        if entry in cols_count.keys():\n",
        "            cols_count[entry] += 1\n",
        "            # Else add the entry to cols_count, set the value to 1\n",
        "        else:\n",
        "            cols_count[entry] = 1\n",
        "        \n",
        "        # Return the cols_count dictionary\n",
        "    return cols_count\n",
        "\n",
        "# Call count_entries(): result1\n",
        "result1 = count_entries(tweets_df, 'lang')\n",
        "\n",
        "# Print result1\n",
        "print(result1)"
      ],
      "execution_count": null,
      "outputs": []
    }
  ]
}