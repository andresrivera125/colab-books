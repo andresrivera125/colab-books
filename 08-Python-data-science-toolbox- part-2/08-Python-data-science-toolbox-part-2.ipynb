{
  "nbformat": 4,
  "nbformat_minor": 0,
  "metadata": {
    "colab": {
      "name": "IntroductionToSeaborn.ipynb",
      "provenance": [],
      "toc_visible": true,
      "authorship_tag": "ABX9TyPvFDDm/HlFiwjyQUYYNUko",
      "include_colab_link": true
    },
    "kernelspec": {
      "name": "python3",
      "display_name": "Python 3"
    }
  },
  "cells": [
    {
      "cell_type": "markdown",
      "metadata": {
        "id": "view-in-github",
        "colab_type": "text"
      },
      "source": [
        "<a href=\"https://colab.research.google.com/github/andresrivera125/colab-books/blob/main/08-Python-data-science-toolbox-%20part-2/08-Python-data-science-toolbox-part-2.ipynb\" target=\"_parent\"><img src=\"https://colab.research.google.com/assets/colab-badge.svg\" alt=\"Open In Colab\"/></a>"
      ]
    },
    {
      "cell_type": "markdown",
      "metadata": {
        "id": "pXJ7pDivY1UP"
      },
      "source": [
        "# Chapter 01 - Using iterators in PythonLand\n",
        "\n"
      ]
    },
    {
      "cell_type": "markdown",
      "metadata": {
        "id": "KuAAqIwrxjvO"
      },
      "source": [
        "## Introduction to iterators\n",
        "\n",
        "- Iterable\n",
        "\n",
        "Is an object that implements the method iter().  This method must return an iterator object.\n",
        "\n",
        "- Iterator\n",
        "Is an object that keeps state and produces the next value when you call next() on it."
      ]
    },
    {
      "cell_type": "code",
      "metadata": {
        "id": "XsL28RGdz3k2"
      },
      "source": [
        "# Create a list of strings: flash\n",
        "flash = ['jay garrick', 'barry allen', 'wally west', 'bart allen']\n",
        "\n",
        "# Print each list item in flash using a for loop\n",
        "for elem in flash:\n",
        "    print(elem)\n",
        "\n",
        "\n",
        "# Create an iterator for flash: superhero\n",
        "superhero = iter(flash)\n",
        "\n",
        "# Print each item from the iterator\n",
        "print(next(superhero))\n",
        "print(next(superhero))\n",
        "print(next(superhero))\n",
        "print(next(superhero))"
      ],
      "execution_count": null,
      "outputs": []
    },
    {
      "cell_type": "code",
      "metadata": {
        "id": "IHzNXGV50LiE"
      },
      "source": [
        "# Create an iterator for range(3): small_value\n",
        "small_value = iter(range(3))\n",
        "\n",
        "# Print the values in small_value\n",
        "print(next(small_value))\n",
        "print(next(small_value))\n",
        "print(next(small_value))\n",
        "\n",
        "# Loop over range(3) and print the values\n",
        "for elem in range(3):\n",
        "    print(elem)\n",
        "\n",
        "\n",
        "# Create an iterator for range(10 ** 100): googol\n",
        "googol = iter(range(10 ** 100))\n",
        "\n",
        "# Print the first 5 values from googol\n",
        "print(next(googol))\n",
        "print(next(googol))\n",
        "print(next(googol))\n",
        "print(next(googol))\n",
        "print(next(googol))"
      ],
      "execution_count": null,
      "outputs": []
    },
    {
      "cell_type": "code",
      "metadata": {
        "id": "At6cCgrd1Fx4"
      },
      "source": [
        "# Create a range object: values\n",
        "values = range(10,21)\n",
        "\n",
        "# Print the range object\n",
        "print(values)\n",
        "\n",
        "# Create a list of integers: values_list\n",
        "values_list = list(values)\n",
        "\n",
        "# Print values_list\n",
        "print(values_list)\n",
        "\n",
        "# Get the sum of values: values_sum\n",
        "values_sum = sum(values)\n",
        "\n",
        "# Print values_sum\n",
        "print(values_sum)"
      ],
      "execution_count": null,
      "outputs": []
    },
    {
      "cell_type": "markdown",
      "metadata": {
        "id": "4TJzxgxe1sNg"
      },
      "source": [
        "## Playing with iterators"
      ]
    },
    {
      "cell_type": "code",
      "metadata": {
        "id": "1vKltyoF2LoK"
      },
      "source": [
        "# Enumerate\n",
        "# Create a list of strings: mutants\n",
        "mutants = ['charles xavier', \n",
        "            'bobby drake', \n",
        "            'kurt wagner', \n",
        "            'max eisenhardt', \n",
        "            'kitty pryde']\n",
        "\n",
        "# Create a list of tuples: mutant_list\n",
        "mutant_list = list(enumerate(mutants))\n",
        "\n",
        "# Print the list of tuples\n",
        "print(mutant_list)\n",
        "\n",
        "# Unpack and print the tuple pairs\n",
        "for index1, value1 in enumerate(mutants):\n",
        "    print(index1, value1)\n",
        "\n",
        "# Change the start index\n",
        "for index2, value2 in enumerate(mutants, start=1):\n",
        "    print(index2, value2)"
      ],
      "execution_count": null,
      "outputs": []
    },
    {
      "cell_type": "code",
      "metadata": {
        "id": "Za17HbmN4lfh"
      },
      "source": [
        "# Zip\n",
        "# Create a list of tuples: mutant_data\n",
        "mutant_data = list(zip(mutants, aliases, powers))\n",
        "\n",
        "# Print the list of tuples\n",
        "print(mutant_data)\n",
        "\n",
        "# Create a zip object using the three lists: mutant_zip\n",
        "mutant_zip = zip(mutants, aliases, powers)\n",
        "\n",
        "# Print the zip object\n",
        "print(mutant_zip)\n",
        "\n",
        "# Unpack the zip object and print the tuple values\n",
        "for mutant, alias, power in mutant_zip:\n",
        "    print(mutant, alias, power)"
      ],
      "execution_count": null,
      "outputs": []
    },
    {
      "cell_type": "code",
      "metadata": {
        "id": "IW84rCm-4_MM"
      },
      "source": [
        "# Create a zip object from mutants and powers: z1\n",
        "z1 = zip(mutants, powers)\n",
        "\n",
        "# Print the tuples in z1 by unpacking with *\n",
        "print(z1)\n",
        "\n",
        "# Re-create a zip object from mutants and powers: z1\n",
        "z1 = zip(mutants, powers)\n",
        "\n",
        "# 'Unzip' the tuples in z1 by unpacking with * and zip(): result1, result2\n",
        "result1, result2 = zip(*z1)\n",
        "\n",
        "# Check if unpacked tuples are equivalent to original tuples\n",
        "print(result1 == mutants)\n",
        "print(result2 == powers)"
      ],
      "execution_count": null,
      "outputs": []
    },
    {
      "cell_type": "markdown",
      "metadata": {
        "id": "Jpek3Qup5GBg"
      },
      "source": [
        "## Using iterators to load large files into memory\n"
      ]
    },
    {
      "cell_type": "code",
      "metadata": {
        "id": "H0wOSJ7r5tUn"
      },
      "source": [
        "# Using chunks to iterate large files\n",
        "import pandas as pd\n",
        "\n",
        "result = []\n",
        "\n",
        "for chunk in pd.read_csv('data.csv', chunksize=1000):\n",
        "  result.append(sum(chunk['x']))\n",
        "\n",
        "print(sum(result))"
      ],
      "execution_count": null,
      "outputs": []
    },
    {
      "cell_type": "code",
      "metadata": {
        "id": "JBZiR0716Pgr"
      },
      "source": [
        "# Other way\n",
        "import pandas as pd\n",
        "\n",
        "total = 0\n",
        "\n",
        "for chunk in pd.read_csv('data.csv', chunksize=1000):\n",
        "  total += sum(chunk['x'])\n",
        "\n",
        "print(total)"
      ],
      "execution_count": null,
      "outputs": []
    },
    {
      "cell_type": "code",
      "metadata": {
        "id": "rC4Wtsdh7N2Q"
      },
      "source": [
        "# Initialize an empty dictionary: counts_dict\n",
        "counts_dict = {}\n",
        "\n",
        "# Iterate over the file chunk by chunk\n",
        "for df in pd.read_csv('tweets.csv', chunksize=10):\n",
        "\n",
        "    # Iterate over the column in DataFrame\n",
        "    for entry in df['lang']:\n",
        "        if entry in counts_dict.keys():\n",
        "            counts_dict[entry] += 1\n",
        "        else:\n",
        "            counts_dict[entry] = 1\n",
        "\n",
        "# Print the populated dictionary\n",
        "print(counts_dict)"
      ],
      "execution_count": null,
      "outputs": []
    },
    {
      "cell_type": "code",
      "metadata": {
        "id": "UDuphXpV8KMR"
      },
      "source": [
        "# Define count_entries()\n",
        "def count_entries(csv_file, c_size, colname):\n",
        "    \"\"\"Return a dictionary with counts of\n",
        "    occurrences as value for each key.\"\"\"\n",
        "    \n",
        "    # Initialize an empty dictionary: counts_dict\n",
        "    counts_dict = {}\n",
        "\n",
        "    # Iterate over the file chunk by chunk\n",
        "    for df in pd.read_csv(csv_file, chunksize=c_size):\n",
        "\n",
        "        # Iterate over the column in DataFrame\n",
        "        for entry in df[colname]:\n",
        "            if entry in counts_dict.keys():\n",
        "                counts_dict[entry] += 1\n",
        "            else:\n",
        "                counts_dict[entry] = 1\n",
        "\n",
        "    # Return counts_dict\n",
        "    return counts_dict\n",
        "\n",
        "# Call count_entries(): result_counts\n",
        "result_counts = count_entries('tweets.csv', 10, 'lang')\n",
        "\n",
        "# Print result_counts\n",
        "print(result_counts)"
      ],
      "execution_count": null,
      "outputs": []
    },
    {
      "cell_type": "markdown",
      "metadata": {
        "id": "Dg_Ms2Zs8r6T"
      },
      "source": [
        "# Chapter 02 - List comprenhensions and generators"
      ]
    },
    {
      "cell_type": "markdown",
      "metadata": {
        "id": "qDxG7Ym78zlH"
      },
      "source": [
        "## List comprenhensions"
      ]
    },
    {
      "cell_type": "code",
      "metadata": {
        "id": "S4CH31vnqjNr"
      },
      "source": [
        "# Populate a list with a list a for loop\n",
        "\n",
        "nums = [12, 8, 21, 3, 16]\n",
        "new_nums = []\n",
        "\n",
        "for num in nums:\n",
        "  new_nums.append(num + 1)\n",
        "\n",
        "print(\"New_nums using a for loop\")\n",
        "print(new_nums)"
      ],
      "execution_count": null,
      "outputs": []
    },
    {
      "cell_type": "code",
      "metadata": {
        "id": "8Tj8I-BsrClU",
        "outputId": "a53dc32d-a2b9-4982-a456-8aaa5c139c3b",
        "colab": {
          "base_uri": "https://localhost:8080/"
        }
      },
      "source": [
        "# Populate a list with a list comprehension\n",
        "\n",
        "nums = [12, 8, 21, 3, 16]\n",
        "new_nums = [num + 1 for num in nums]\n",
        "\n",
        "print(\"New_nums using a list comprehension\")\n",
        "print(new_nums)"
      ],
      "execution_count": 1,
      "outputs": [
        {
          "output_type": "stream",
          "text": [
            "New_nums using a list comprehension\n",
            "[13, 9, 22, 4, 17]\n"
          ],
          "name": "stdout"
        }
      ]
    },
    {
      "cell_type": "code",
      "metadata": {
        "id": "NEf-SQ2GreDm",
        "outputId": "ed6f079f-6af6-4dd2-94d6-65957e950c83",
        "colab": {
          "base_uri": "https://localhost:8080/"
        }
      },
      "source": [
        "# Neested loops\n",
        "\n",
        "pairs_1 = []\n",
        "\n",
        "for num1 in range(0, 2):\n",
        "  for num2 in range(6, 8):\n",
        "    pairs_1.append((num1, num2))\n",
        "\n",
        "print(pairs_1)"
      ],
      "execution_count": 4,
      "outputs": [
        {
          "output_type": "stream",
          "text": [
            "[(0, 6), (0, 7), (1, 6), (1, 7)]\n"
          ],
          "name": "stdout"
        }
      ]
    },
    {
      "cell_type": "code",
      "metadata": {
        "id": "z1oDMKQRr6eS",
        "outputId": "6f153dab-92f8-41bf-9110-60a878e8ea06",
        "colab": {
          "base_uri": "https://localhost:8080/"
        }
      },
      "source": [
        "# Neested loops using list comprehension\n",
        "\n",
        "pairs_2 = [(num1, num2) for num1 in range(0, 2) for num2 in range(6, 8)]\n",
        "print(pairs_2)"
      ],
      "execution_count": 5,
      "outputs": [
        {
          "output_type": "stream",
          "text": [
            "[(0, 6), (0, 7), (1, 6), (1, 7)]\n"
          ],
          "name": "stdout"
        }
      ]
    },
    {
      "cell_type": "code",
      "metadata": {
        "id": "jLlxps7us-ih",
        "outputId": "54d8d566-eb63-405e-b109-b079b7cc227c",
        "colab": {
          "base_uri": "https://localhost:8080/"
        }
      },
      "source": [
        "# Show the first caracter of each word in a list\n",
        "doctor = ['house', 'cuddy', 'chase', 'thirteen', 'wilson']\n",
        "print([doc[0] for doc in doctor])"
      ],
      "execution_count": 6,
      "outputs": [
        {
          "output_type": "stream",
          "text": [
            "['h', 'c', 'c', 't', 'w']\n"
          ],
          "name": "stdout"
        }
      ]
    },
    {
      "cell_type": "code",
      "metadata": {
        "id": "asOKs9pytbn5",
        "outputId": "de0b1112-deaa-4220-8111-4e95c03fa16a",
        "colab": {
          "base_uri": "https://localhost:8080/"
        }
      },
      "source": [
        "# Write a list comprehension that produces a list of \n",
        "# the squares of the numbers ranging from 0 to 9\n",
        "\n",
        "print([num ** 2 for num in range(0, 10)])"
      ],
      "execution_count": 8,
      "outputs": [
        {
          "output_type": "stream",
          "text": [
            "[0, 1, 4, 9, 16, 25, 36, 49, 64, 81]\n"
          ],
          "name": "stdout"
        }
      ]
    },
    {
      "cell_type": "code",
      "metadata": {
        "id": "jnJHBTNowDTh",
        "outputId": "1e714d48-4f94-4dd1-c445-c9209ecc2d57",
        "colab": {
          "base_uri": "https://localhost:8080/"
        }
      },
      "source": [
        "# Print a matrix that contains other matrix\n",
        "# Create a 5 x 5 matrix using a list of lists: matrix\n",
        "matrix = [[col for col in range(0,5)]  for row in range (0, 5)]\n",
        "\n",
        "print([element for element in matrix])"
      ],
      "execution_count": 9,
      "outputs": [
        {
          "output_type": "stream",
          "text": [
            "[[0, 1, 2, 3, 4], [0, 1, 2, 3, 4], [0, 1, 2, 3, 4], [0, 1, 2, 3, 4], [0, 1, 2, 3, 4]]\n"
          ],
          "name": "stdout"
        }
      ]
    },
    {
      "cell_type": "markdown",
      "metadata": {
        "id": "yx7d6URHwmwW"
      },
      "source": [
        "## Advanced comprehensions"
      ]
    },
    {
      "cell_type": "code",
      "metadata": {
        "id": "4JlV_Q7gwrP5",
        "outputId": "22e31da2-c136-4359-a2d9-30aee4114884",
        "colab": {
          "base_uri": "https://localhost:8080/"
        }
      },
      "source": [
        "# Conditionals in comprehensions\n",
        "\n",
        "# Conditionals on the iterable\n",
        "\n",
        "print([num ** 2 for num in range(10) if num % 2 == 0])\n",
        "\n",
        "# Conditionals on the output expression\n",
        "\n",
        "print([num ** 2 if num % 2 == 0 else 0 for num in range(10)])"
      ],
      "execution_count": 10,
      "outputs": [
        {
          "output_type": "stream",
          "text": [
            "[0, 4, 16, 36, 64]\n",
            "[0, 0, 4, 0, 16, 0, 36, 0, 64, 0]\n"
          ],
          "name": "stdout"
        }
      ]
    },
    {
      "cell_type": "markdown",
      "metadata": {
        "id": "gKIC7bNXxS_j"
      },
      "source": [
        "### Dict comprehensions"
      ]
    },
    {
      "cell_type": "code",
      "metadata": {
        "id": "PCgIFWblxYRS",
        "outputId": "65fc9261-932e-442a-dafa-91bdae7eb792",
        "colab": {
          "base_uri": "https://localhost:8080/"
        }
      },
      "source": [
        "# Create dictionaries\n",
        "# Use curly braces {} instead of brackets []\n",
        "\n",
        "pos_neg = {num: -num for num in range(9)}\n",
        "print(pos_neg)"
      ],
      "execution_count": 11,
      "outputs": [
        {
          "output_type": "stream",
          "text": [
            "{0: 0, 1: -1, 2: -2, 3: -3, 4: -4, 5: -5, 6: -6, 7: -7, 8: -8}\n"
          ],
          "name": "stdout"
        }
      ]
    },
    {
      "cell_type": "code",
      "metadata": {
        "id": "mnj72ehAx_Ur",
        "outputId": "de0a032f-2908-4acb-bbf0-a9a8082b685d",
        "colab": {
          "base_uri": "https://localhost:8080/"
        }
      },
      "source": [
        "# Create a list of strings: fellowship\n",
        "fellowship = ['frodo', 'samwise', 'merry', 'aragorn', 'legolas', 'boromir', 'gimli']\n",
        "\n",
        "# Create list comprehension: new_fellowship. Choose only the member \n",
        "# with a name >= 7\n",
        "new_fellowship = [member for member in fellowship if len(member) > 6]\n",
        "\n",
        "# Print the new list\n",
        "print(new_fellowship)"
      ],
      "execution_count": 12,
      "outputs": [
        {
          "output_type": "stream",
          "text": [
            "['samwise', 'aragorn', 'legolas', 'boromir']\n"
          ],
          "name": "stdout"
        }
      ]
    },
    {
      "cell_type": "code",
      "metadata": {
        "id": "1bdgj-ftyNIV"
      },
      "source": [
        "# Create a list of strings: fellowship\n",
        "fellowship = ['frodo', 'samwise', 'merry', 'aragorn', 'legolas', 'boromir', 'gimli']\n",
        "\n",
        "# Create list comprehension: new_fellowship\n",
        "new_fellowship = [member if len(member) > 6 else '' for member in fellowship]\n",
        "\n",
        "# Print the new list\n",
        "print(new_fellowship)"
      ],
      "execution_count": null,
      "outputs": []
    },
    {
      "cell_type": "markdown",
      "metadata": {
        "id": "hf199U4ny_YC"
      },
      "source": [
        "- Create a dict comprehension where the key is a string in fellowship and the value is the length of the string. Remember to use the syntax <key> : <value> in the output expression part of the comprehension to create the members of the dictionary. Use member as the iterator variable."
      ]
    },
    {
      "cell_type": "code",
      "metadata": {
        "id": "4IbiEpdmy7f1",
        "outputId": "f87d262f-ceee-42c1-c357-2a6ff7f57372",
        "colab": {
          "base_uri": "https://localhost:8080/"
        }
      },
      "source": [
        "# Create a list of strings: fellowship\n",
        "fellowship = ['frodo', 'samwise', 'merry', 'aragorn', 'legolas', 'boromir', 'gimli']\n",
        "\n",
        "# Create dict comprehension: new_fellowship\n",
        "new_fellowship = {member: len(member) for member in fellowship}\n",
        "\n",
        "# Print the new dictionary\n",
        "print(new_fellowship)"
      ],
      "execution_count": 13,
      "outputs": [
        {
          "output_type": "stream",
          "text": [
            "{'frodo': 5, 'samwise': 7, 'merry': 5, 'aragorn': 7, 'legolas': 7, 'boromir': 7, 'gimli': 5}\n"
          ],
          "name": "stdout"
        }
      ]
    },
    {
      "cell_type": "markdown",
      "metadata": {
        "id": "l_PVZMyozGde"
      },
      "source": [
        "## Introduction to generator expressions"
      ]
    },
    {
      "cell_type": "code",
      "metadata": {
        "id": "fN7xsM2jzjjD",
        "outputId": "0cee7ed9-2731-47a7-c81e-a681716b11de",
        "colab": {
          "base_uri": "https://localhost:8080/"
        }
      },
      "source": [
        "# A list comprehension\n",
        "list_a = [2 * num for num in range(10)]\n",
        "print(list_a)\n",
        "print(type(list_a))\n",
        "\n",
        "# A generator\n",
        "# Just use parenthesis () instead of brackets []\n",
        "generator = (2 * num for num in range(10))\n",
        "print(generator)\n",
        "print(type(generator))"
      ],
      "execution_count": 14,
      "outputs": [
        {
          "output_type": "stream",
          "text": [
            "[0, 2, 4, 6, 8, 10, 12, 14, 16, 18]\n",
            "<class 'list'>\n",
            "<generator object <genexpr> at 0x7fb7da7246d0>\n",
            "<class 'generator'>\n"
          ],
          "name": "stdout"
        }
      ]
    },
    {
      "cell_type": "markdown",
      "metadata": {
        "id": "1nQ1xdwZzjtZ"
      },
      "source": [
        "### List comprehensions vs generators\n",
        "\n",
        "- List comprehension - returns a list\n",
        "- Generators - returns a generator object\n",
        "- Both can be iterated over"
      ]
    },
    {
      "cell_type": "code",
      "metadata": {
        "id": "Om4ifkhv0PSm",
        "outputId": "bedfd253-c1c7-4b7f-c77c-05a54c4d9007",
        "colab": {
          "base_uri": "https://localhost:8080/"
        }
      },
      "source": [
        "# Printing values form generators\n",
        "\n",
        "result = (num for num in range(6))\n",
        "print([num for num in result])"
      ],
      "execution_count": 18,
      "outputs": [
        {
          "output_type": "stream",
          "text": [
            "[0, 1, 2, 3, 4, 5]\n"
          ],
          "name": "stdout"
        }
      ]
    },
    {
      "cell_type": "code",
      "metadata": {
        "id": "97JOsZax0yqm",
        "outputId": "9d0557be-f426-42c2-916c-f554989d0bd2",
        "colab": {
          "base_uri": "https://localhost:8080/"
        }
      },
      "source": [
        "# Lazy evaluation\n",
        "result = (num for num in range(6))\n",
        "print(next(result))\n",
        "print(next(result))\n",
        "print(next(result))\n",
        "print(next(result))\n",
        "print(next(result))\n",
        "print(next(result))"
      ],
      "execution_count": 20,
      "outputs": [
        {
          "output_type": "stream",
          "text": [
            "0\n",
            "1\n",
            "2\n",
            "3\n",
            "4\n",
            "5\n"
          ],
          "name": "stdout"
        }
      ]
    },
    {
      "cell_type": "markdown",
      "metadata": {
        "id": "TO14qYhq1E7Y"
      },
      "source": [
        "- The generators don't evaluate all the expression immediately.  That means are great to work with large lists, generate elements of the sequence on the fly.\n",
        "\n",
        "Let's see and example:"
      ]
    },
    {
      "cell_type": "code",
      "metadata": {
        "id": "ltuELlox1xkB"
      },
      "source": [
        "# Using a list comprehension\n",
        "large_list = [num for num in range(10**1000000)]"
      ],
      "execution_count": null,
      "outputs": []
    },
    {
      "cell_type": "code",
      "metadata": {
        "id": "lD683gxU2JXl"
      },
      "source": [
        "# Same range using a generator\n",
        "large_generator = (num for num in range(10**1000000))"
      ],
      "execution_count": null,
      "outputs": []
    },
    {
      "cell_type": "markdown",
      "metadata": {
        "id": "s4EQ1Eie2qm1"
      },
      "source": [
        "### Generator functions\n",
        "\n",
        "- Produces generator objects when called\n",
        "- Defined like a regular function - def\n",
        "- Yields a sequence of values instead of returning a single value.\n",
        "- Generates a value with **yield** keyword."
      ]
    },
    {
      "cell_type": "code",
      "metadata": {
        "id": "J_UV1NUC3ONb",
        "outputId": "49c50a8d-4e57-498c-84ae-704b9d84f43e",
        "colab": {
          "base_uri": "https://localhost:8080/"
        }
      },
      "source": [
        "# Build a generator function\n",
        "\n",
        "def num_sequence(n):\n",
        "  \"\"\"Generate values from 0 to n.\"\"\"\n",
        "\n",
        "  i = 0\n",
        "  while i < n:\n",
        "    yield i\n",
        "    i += 1\n",
        "\n",
        "result = num_sequence(5)\n",
        "print(type(result))\n",
        "print([num for num in result])"
      ],
      "execution_count": 22,
      "outputs": [
        {
          "output_type": "stream",
          "text": [
            "<class 'generator'>\n",
            "[0, 1, 2, 3, 4]\n"
          ],
          "name": "stdout"
        }
      ]
    },
    {
      "cell_type": "code",
      "metadata": {
        "id": "G89oUJVo4ZRf"
      },
      "source": [
        "# Create generator object: result\n",
        "result = (num for num in range(31))\n",
        "\n",
        "# Print the first 5 values\n",
        "print(next(result))\n",
        "print(next(result))\n",
        "print(next(result))\n",
        "print(next(result))\n",
        "print(next(result))\n",
        "\n",
        "# Print the rest of the values\n",
        "for value in result:\n",
        "    print(value)"
      ],
      "execution_count": null,
      "outputs": []
    },
    {
      "cell_type": "code",
      "metadata": {
        "id": "YyMSdqKE4mu1"
      },
      "source": [
        "# Create a list of strings: lannister\n",
        "lannister = ['cersei', 'jaime', 'tywin', 'tyrion', 'joffrey']\n",
        "\n",
        "# Create a generator object: lengths\n",
        "lengths = (len(person) for person in lannister)\n",
        "\n",
        "# Iterate over and print the values in lengths\n",
        "for value in lengths:\n",
        "    print(value)\n"
      ],
      "execution_count": null,
      "outputs": []
    },
    {
      "cell_type": "code",
      "metadata": {
        "id": "rSnkcY5k47hB"
      },
      "source": [
        "# Create a list of strings\n",
        "lannister = ['cersei', 'jaime', 'tywin', 'tyrion', 'joffrey']\n",
        "\n",
        "# Define generator function get_lengths\n",
        "def get_lengths(input_list):\n",
        "    \"\"\"Generator function that yields the\n",
        "    length of the strings in input_list.\"\"\"\n",
        "\n",
        "    # Yield the length of a string\n",
        "    for person in input_list:\n",
        "        yield len(person)\n",
        "\n",
        "# Print the values generated by get_lengths()\n",
        "for value in get_lengths(lannister):\n",
        "    print(value)\n"
      ],
      "execution_count": null,
      "outputs": []
    },
    {
      "cell_type": "code",
      "metadata": {
        "id": "5rJsA2Lx52ep"
      },
      "source": [
        "# Extract the created_at column from df: tweet_time\n",
        "tweet_time = df[\"created_at\"]\n",
        "\n",
        "# Extract the clock time: tweet_clock_time\n",
        "tweet_clock_time = [entry[11:19] for entry in tweet_time]\n",
        "\n",
        "# Print the extracted times\n",
        "print(tweet_clock_time)\n"
      ],
      "execution_count": null,
      "outputs": []
    },
    {
      "cell_type": "code",
      "metadata": {
        "id": "3duS0rTV6WOE"
      },
      "source": [
        "# Extract the created_at column from df: tweet_time\n",
        "tweet_time = df['created_at']\n",
        "\n",
        "# Extract the clock time: tweet_clock_time\n",
        "tweet_clock_time = [entry[11:19] for entry in tweet_time if entry[17:19] == '19']\n",
        "\n",
        "# Print the extracted times\n",
        "print(tweet_clock_time)\n"
      ],
      "execution_count": null,
      "outputs": []
    },
    {
      "cell_type": "markdown",
      "metadata": {
        "id": "Qa82dX_y6dDj"
      },
      "source": [
        "# Bringing it all together"
      ]
    },
    {
      "cell_type": "markdown",
      "metadata": {
        "id": "7-oOohpt6iB8"
      },
      "source": [
        "## Welcome to the case study!"
      ]
    },
    {
      "cell_type": "code",
      "metadata": {
        "id": "s42ZCCic67aX",
        "outputId": "59736de8-6925-4daa-eb82-0c2c5881b396",
        "colab": {
          "base_uri": "https://localhost:8080/",
          "height": 214
        }
      },
      "source": [
        "# Zip()\n",
        "avengers = [\"hawkeye\", \"iron man\", \"thor\", \"quicksilver\"]\n",
        "names = [\"barton\", \"stark\", \"odinson\", \"maximoff\"]\n",
        "\n",
        "z = zip(avengers, names)\n",
        "print(type(z))\n",
        "print(list(z))"
      ],
      "execution_count": 24,
      "outputs": [
        {
          "output_type": "stream",
          "text": [
            "<class 'zip'>\n"
          ],
          "name": "stdout"
        },
        {
          "output_type": "error",
          "ename": "TypeError",
          "evalue": "ignored",
          "traceback": [
            "\u001b[0;31m---------------------------------------------------------------------------\u001b[0m",
            "\u001b[0;31mTypeError\u001b[0m                                 Traceback (most recent call last)",
            "\u001b[0;32m<ipython-input-24-886a6ba8eaf2>\u001b[0m in \u001b[0;36m<module>\u001b[0;34m()\u001b[0m\n\u001b[1;32m      5\u001b[0m \u001b[0mz\u001b[0m \u001b[0;34m=\u001b[0m \u001b[0mzip\u001b[0m\u001b[0;34m(\u001b[0m\u001b[0mavengers\u001b[0m\u001b[0;34m,\u001b[0m \u001b[0mnames\u001b[0m\u001b[0;34m)\u001b[0m\u001b[0;34m\u001b[0m\u001b[0;34m\u001b[0m\u001b[0m\n\u001b[1;32m      6\u001b[0m \u001b[0mprint\u001b[0m\u001b[0;34m(\u001b[0m\u001b[0mtype\u001b[0m\u001b[0;34m(\u001b[0m\u001b[0mz\u001b[0m\u001b[0;34m)\u001b[0m\u001b[0;34m)\u001b[0m\u001b[0;34m\u001b[0m\u001b[0;34m\u001b[0m\u001b[0m\n\u001b[0;32m----> 7\u001b[0;31m \u001b[0mprint\u001b[0m\u001b[0;34m(\u001b[0m\u001b[0mlist\u001b[0m\u001b[0;34m(\u001b[0m\u001b[0mz\u001b[0m\u001b[0;34m)\u001b[0m\u001b[0;34m)\u001b[0m\u001b[0;34m\u001b[0m\u001b[0;34m\u001b[0m\u001b[0m\n\u001b[0m",
            "\u001b[0;31mTypeError\u001b[0m: 'list' object is not callable"
          ]
        }
      ]
    }
  ]
}