{
  "nbformat": 4,
  "nbformat_minor": 0,
  "metadata": {
    "colab": {
      "name": "IntroductionToSeaborn.ipynb",
      "provenance": [],
      "toc_visible": true,
      "authorship_tag": "ABX9TyOw9lFokLu0Ul5Qfkon94Cj",
      "include_colab_link": true
    },
    "kernelspec": {
      "name": "python3",
      "display_name": "Python 3"
    }
  },
  "cells": [
    {
      "cell_type": "markdown",
      "metadata": {
        "id": "view-in-github",
        "colab_type": "text"
      },
      "source": [
        "<a href=\"https://colab.research.google.com/github/andresrivera125/colab-books/blob/main/08-Python-data-science-toolbox-%20part-2/08-Python-data-science-toolbox-part-2.ipynb\" target=\"_parent\"><img src=\"https://colab.research.google.com/assets/colab-badge.svg\" alt=\"Open In Colab\"/></a>"
      ]
    },
    {
      "cell_type": "markdown",
      "metadata": {
        "id": "pXJ7pDivY1UP"
      },
      "source": [
        "# Chapter 01 - Using iterators in PythonLand\n",
        "\n"
      ]
    }
  ]
}