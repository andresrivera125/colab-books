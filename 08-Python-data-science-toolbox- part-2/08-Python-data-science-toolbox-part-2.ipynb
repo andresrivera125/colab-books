{
  "nbformat": 4,
  "nbformat_minor": 0,
  "metadata": {
    "colab": {
      "name": "IntroductionToSeaborn.ipynb",
      "provenance": [],
      "toc_visible": true,
      "authorship_tag": "ABX9TyPmUdmlpN5nNWyJV7kavr9f",
      "include_colab_link": true
    },
    "kernelspec": {
      "name": "python3",
      "display_name": "Python 3"
    }
  },
  "cells": [
    {
      "cell_type": "markdown",
      "metadata": {
        "id": "view-in-github",
        "colab_type": "text"
      },
      "source": [
        "<a href=\"https://colab.research.google.com/github/andresrivera125/colab-books/blob/main/08-Python-data-science-toolbox-%20part-2/08-Python-data-science-toolbox-part-2.ipynb\" target=\"_parent\"><img src=\"https://colab.research.google.com/assets/colab-badge.svg\" alt=\"Open In Colab\"/></a>"
      ]
    },
    {
      "cell_type": "markdown",
      "metadata": {
        "id": "pXJ7pDivY1UP"
      },
      "source": [
        "# Chapter 01 - Using iterators in PythonLand\n",
        "\n"
      ]
    },
    {
      "cell_type": "markdown",
      "metadata": {
        "id": "KuAAqIwrxjvO"
      },
      "source": [
        "## Introduction to iterators\n",
        "\n",
        "- Iterable\n",
        "\n",
        "Is an object that implements the method iter().  This method must return an iterator object.\n",
        "\n",
        "- Iterator\n",
        "Is an object that keeps state and produces the next value when you call next() on it."
      ]
    },
    {
      "cell_type": "code",
      "metadata": {
        "id": "XsL28RGdz3k2"
      },
      "source": [
        "# Create a list of strings: flash\n",
        "flash = ['jay garrick', 'barry allen', 'wally west', 'bart allen']\n",
        "\n",
        "# Print each list item in flash using a for loop\n",
        "for elem in flash:\n",
        "    print(elem)\n",
        "\n",
        "\n",
        "# Create an iterator for flash: superhero\n",
        "superhero = iter(flash)\n",
        "\n",
        "# Print each item from the iterator\n",
        "print(next(superhero))\n",
        "print(next(superhero))\n",
        "print(next(superhero))\n",
        "print(next(superhero))"
      ],
      "execution_count": null,
      "outputs": []
    },
    {
      "cell_type": "code",
      "metadata": {
        "id": "IHzNXGV50LiE"
      },
      "source": [
        "# Create an iterator for range(3): small_value\n",
        "small_value = iter(range(3))\n",
        "\n",
        "# Print the values in small_value\n",
        "print(next(small_value))\n",
        "print(next(small_value))\n",
        "print(next(small_value))\n",
        "\n",
        "# Loop over range(3) and print the values\n",
        "for elem in range(3):\n",
        "    print(elem)\n",
        "\n",
        "\n",
        "# Create an iterator for range(10 ** 100): googol\n",
        "googol = iter(range(10 ** 100))\n",
        "\n",
        "# Print the first 5 values from googol\n",
        "print(next(googol))\n",
        "print(next(googol))\n",
        "print(next(googol))\n",
        "print(next(googol))\n",
        "print(next(googol))"
      ],
      "execution_count": null,
      "outputs": []
    },
    {
      "cell_type": "code",
      "metadata": {
        "id": "At6cCgrd1Fx4"
      },
      "source": [
        "# Create a range object: values\n",
        "values = range(10,21)\n",
        "\n",
        "# Print the range object\n",
        "print(values)\n",
        "\n",
        "# Create a list of integers: values_list\n",
        "values_list = list(values)\n",
        "\n",
        "# Print values_list\n",
        "print(values_list)\n",
        "\n",
        "# Get the sum of values: values_sum\n",
        "values_sum = sum(values)\n",
        "\n",
        "# Print values_sum\n",
        "print(values_sum)"
      ],
      "execution_count": null,
      "outputs": []
    },
    {
      "cell_type": "markdown",
      "metadata": {
        "id": "4TJzxgxe1sNg"
      },
      "source": [
        "## Playing with iterators"
      ]
    },
    {
      "cell_type": "code",
      "metadata": {
        "id": "1vKltyoF2LoK"
      },
      "source": [
        "# Enumerate\n",
        "# Create a list of strings: mutants\n",
        "mutants = ['charles xavier', \n",
        "            'bobby drake', \n",
        "            'kurt wagner', \n",
        "            'max eisenhardt', \n",
        "            'kitty pryde']\n",
        "\n",
        "# Create a list of tuples: mutant_list\n",
        "mutant_list = list(enumerate(mutants))\n",
        "\n",
        "# Print the list of tuples\n",
        "print(mutant_list)\n",
        "\n",
        "# Unpack and print the tuple pairs\n",
        "for index1, value1 in enumerate(mutants):\n",
        "    print(index1, value1)\n",
        "\n",
        "# Change the start index\n",
        "for index2, value2 in enumerate(mutants, start=1):\n",
        "    print(index2, value2)"
      ],
      "execution_count": null,
      "outputs": []
    },
    {
      "cell_type": "code",
      "metadata": {
        "id": "Za17HbmN4lfh"
      },
      "source": [
        "# Zip\n",
        "# Create a list of tuples: mutant_data\n",
        "mutant_data = list(zip(mutants, aliases, powers))\n",
        "\n",
        "# Print the list of tuples\n",
        "print(mutant_data)\n",
        "\n",
        "# Create a zip object using the three lists: mutant_zip\n",
        "mutant_zip = zip(mutants, aliases, powers)\n",
        "\n",
        "# Print the zip object\n",
        "print(mutant_zip)\n",
        "\n",
        "# Unpack the zip object and print the tuple values\n",
        "for mutant, alias, power in mutant_zip:\n",
        "    print(mutant, alias, power)"
      ],
      "execution_count": null,
      "outputs": []
    },
    {
      "cell_type": "code",
      "metadata": {
        "id": "IW84rCm-4_MM"
      },
      "source": [
        "# Create a zip object from mutants and powers: z1\n",
        "z1 = zip(mutants, powers)\n",
        "\n",
        "# Print the tuples in z1 by unpacking with *\n",
        "print(z1)\n",
        "\n",
        "# Re-create a zip object from mutants and powers: z1\n",
        "z1 = zip(mutants, powers)\n",
        "\n",
        "# 'Unzip' the tuples in z1 by unpacking with * and zip(): result1, result2\n",
        "result1, result2 = zip(*z1)\n",
        "\n",
        "# Check if unpacked tuples are equivalent to original tuples\n",
        "print(result1 == mutants)\n",
        "print(result2 == powers)"
      ],
      "execution_count": null,
      "outputs": []
    },
    {
      "cell_type": "markdown",
      "metadata": {
        "id": "Jpek3Qup5GBg"
      },
      "source": [
        "## Using iterators to load large files into memory\n"
      ]
    },
    {
      "cell_type": "code",
      "metadata": {
        "id": "H0wOSJ7r5tUn"
      },
      "source": [
        "# Using chunks to iterate large files\n",
        "import pandas as pd\n",
        "\n",
        "result = []\n",
        "\n",
        "for chunk in pd.read_csv('data.csv', chunksize=1000):\n",
        "  result.append(sum(chunk['x']))\n",
        "\n",
        "print(sum(result))"
      ],
      "execution_count": null,
      "outputs": []
    },
    {
      "cell_type": "code",
      "metadata": {
        "id": "JBZiR0716Pgr"
      },
      "source": [
        "# Other way\n",
        "import pandas as pd\n",
        "\n",
        "total = 0\n",
        "\n",
        "for chunk in pd.read_csv('data.csv', chunksize=1000):\n",
        "  total += sum(chunk['x'])\n",
        "\n",
        "print(total)"
      ],
      "execution_count": null,
      "outputs": []
    },
    {
      "cell_type": "code",
      "metadata": {
        "id": "rC4Wtsdh7N2Q"
      },
      "source": [
        "# Initialize an empty dictionary: counts_dict\n",
        "counts_dict = {}\n",
        "\n",
        "# Iterate over the file chunk by chunk\n",
        "for df in pd.read_csv('tweets.csv', chunksize=10):\n",
        "\n",
        "    # Iterate over the column in DataFrame\n",
        "    for entry in df['lang']:\n",
        "        if entry in counts_dict.keys():\n",
        "            counts_dict[entry] += 1\n",
        "        else:\n",
        "            counts_dict[entry] = 1\n",
        "\n",
        "# Print the populated dictionary\n",
        "print(counts_dict)"
      ],
      "execution_count": null,
      "outputs": []
    },
    {
      "cell_type": "code",
      "metadata": {
        "id": "UDuphXpV8KMR"
      },
      "source": [
        "# Define count_entries()\n",
        "def count_entries(csv_file, c_size, colname):\n",
        "    \"\"\"Return a dictionary with counts of\n",
        "    occurrences as value for each key.\"\"\"\n",
        "    \n",
        "    # Initialize an empty dictionary: counts_dict\n",
        "    counts_dict = {}\n",
        "\n",
        "    # Iterate over the file chunk by chunk\n",
        "    for df in pd.read_csv(csv_file, chunksize=c_size):\n",
        "\n",
        "        # Iterate over the column in DataFrame\n",
        "        for entry in df[colname]:\n",
        "            if entry in counts_dict.keys():\n",
        "                counts_dict[entry] += 1\n",
        "            else:\n",
        "                counts_dict[entry] = 1\n",
        "\n",
        "    # Return counts_dict\n",
        "    return counts_dict\n",
        "\n",
        "# Call count_entries(): result_counts\n",
        "result_counts = count_entries('tweets.csv', 10, 'lang')\n",
        "\n",
        "# Print result_counts\n",
        "print(result_counts)"
      ],
      "execution_count": null,
      "outputs": []
    },
    {
      "cell_type": "markdown",
      "metadata": {
        "id": "Dg_Ms2Zs8r6T"
      },
      "source": [
        "# Chapter 02 - List comprenhensions and generators"
      ]
    },
    {
      "cell_type": "markdown",
      "metadata": {
        "id": "qDxG7Ym78zlH"
      },
      "source": [
        "## List comprenhensions"
      ]
    }
  ]
}