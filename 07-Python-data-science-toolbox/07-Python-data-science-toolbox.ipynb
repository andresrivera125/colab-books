{
  "nbformat": 4,
  "nbformat_minor": 0,
  "metadata": {
    "colab": {
      "name": "IntroductionToSeaborn.ipynb",
      "provenance": [],
      "toc_visible": true,
      "authorship_tag": "ABX9TyNcB+P8ZNJO0TZFyx43hHWu",
      "include_colab_link": true
    },
    "kernelspec": {
      "name": "python3",
      "display_name": "Python 3"
    }
  },
  "cells": [
    {
      "cell_type": "markdown",
      "metadata": {
        "id": "view-in-github",
        "colab_type": "text"
      },
      "source": [
        "<a href=\"https://colab.research.google.com/github/andresrivera125/colab-books/blob/main/07-Python-data-science-toolbox/07-Python-data-science-toolbox.ipynb\" target=\"_parent\"><img src=\"https://colab.research.google.com/assets/colab-badge.svg\" alt=\"Open In Colab\"/></a>"
      ]
    },
    {
      "cell_type": "markdown",
      "metadata": {
        "id": "pXJ7pDivY1UP"
      },
      "source": [
        "# Chapter 01 - Writing your own functions\n",
        "\n"
      ]
    },
    {
      "cell_type": "markdown",
      "metadata": {
        "id": "-B6ulK6LsnTT"
      },
      "source": [
        "## User-defined functions\n",
        "\n",
        "- Defining a function\n",
        "\n",
        "```\n",
        "def square():\n",
        "  new_value = 4 ** 2\n",
        "  print(new_value)\n",
        "```\n",
        "\n",
        "- Calling a function\n",
        "\n",
        "```\n",
        "square()\n",
        "```\n",
        "\n",
        "- Function parameters\n",
        "\n",
        "```\n",
        "def square(value):\n",
        "  new_value = value ** 2\n",
        "  print(new_value)\n",
        "```\n",
        "\n",
        "- Returning values\n",
        "\n",
        "```\n",
        "def square(value):\n",
        "  new_value = value ** 2\n",
        "  return new_value\n",
        "\n",
        "\n",
        "value = square(3)\n",
        "print(value)\n",
        "```\n",
        "\n",
        "- Docstrings\n",
        "\n",
        "  - Docstrings describe what your function does\n",
        "  - Serve as documentation for your function\n",
        "  - Placed in the immediate line after the function header\n",
        "  - In between triple double quotes \"\"\""
      ]
    },
    {
      "cell_type": "code",
      "metadata": {
        "id": "3zb3PqpDuQ9d",
        "outputId": "a071d2df-569d-4c8a-f0b2-8ac1678441e9",
        "colab": {
          "base_uri": "https://localhost:8080/"
        }
      },
      "source": [
        "def square(value):\n",
        "  \"\"\"Return the square of a giving value.\"\"\"\n",
        "  result = value ** 2\n",
        "  return result\n",
        "\n",
        "\n",
        "if __name__ == '__main__':\n",
        "  print(\"The square of 3 is: \", square(3))"
      ],
      "execution_count": 2,
      "outputs": [
        {
          "output_type": "stream",
          "text": [
            "The square of 3 is:  9\n"
          ],
          "name": "stdout"
        }
      ]
    },
    {
      "cell_type": "markdown",
      "metadata": {
        "id": "uSoTHe8PxsEE"
      },
      "source": [
        "## Multiple arguments and return values\n",
        "\n",
        "- Tuples\n",
        "\n",
        "even_nums = (2, 4, 6)\n",
        "\n",
        "- Destructuring tuples (or unpacking tuples)\n",
        "\n",
        "a, b, c = even_nums\n",
        "\n",
        "- You can access tuple values by it index.\n",
        "\n",
        "a = even_nums[0]\n",
        "b = even_nums[1]\n",
        "c = even_nums[2]"
      ]
    },
    {
      "cell_type": "code",
      "metadata": {
        "id": "LpuYww7ay8tU",
        "outputId": "1b44af95-4f5a-41ff-f5e1-5753206ad825",
        "colab": {
          "base_uri": "https://localhost:8080/"
        }
      },
      "source": [
        "## Returning multiple values\n",
        "\n",
        "def raise_both(a, b):\n",
        "  \"\"\"Raise a to the power of b\n",
        "  and vice versa.\"\"\"\n",
        "\n",
        "  a_power_b = a ** b\n",
        "  b_power_a = b ** a\n",
        "\n",
        "  return (a_power_b, b_power_a)\n",
        "\n",
        "if __name__ == \"__main__\":\n",
        "  a = 3\n",
        "  b = 2\n",
        "  a_power_b, b_power_a = raise_both(a, b)\n",
        "  print(a, \" power \", b, \" = \", a_power_b)\n",
        "  print(b, \" power \", a, \" = \", b_power_a)"
      ],
      "execution_count": 3,
      "outputs": [
        {
          "output_type": "stream",
          "text": [
            "3  power  2  =  9\n",
            "2  power  3  =  8\n"
          ],
          "name": "stdout"
        }
      ]
    },
    {
      "cell_type": "markdown",
      "metadata": {
        "id": "Tv1W4HxG1lv1"
      },
      "source": [
        "## Bringing it all together"
      ]
    }
  ]
}