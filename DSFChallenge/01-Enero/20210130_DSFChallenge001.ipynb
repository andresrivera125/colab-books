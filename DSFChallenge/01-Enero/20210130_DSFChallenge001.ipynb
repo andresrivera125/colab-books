{
  "nbformat": 4,
  "nbformat_minor": 0,
  "metadata": {
    "colab": {
      "name": "20210130-DSFChallenge001.ipynb",
      "provenance": [],
      "authorship_tag": "ABX9TyM4nROMWEtvbREQqBQIXGiH",
      "include_colab_link": true
    },
    "kernelspec": {
      "name": "python3",
      "display_name": "Python 3"
    }
  },
  "cells": [
    {
      "cell_type": "markdown",
      "metadata": {
        "id": "view-in-github",
        "colab_type": "text"
      },
      "source": [
        "<a href=\"https://colab.research.google.com/github/andresrivera125/colab-books/blob/main/DSFChallenge/01-Enero/20210130_DSFChallenge001.ipynb\" target=\"_parent\"><img src=\"https://colab.research.google.com/assets/colab-badge.svg\" alt=\"Open In Colab\"/></a>"
      ]
    },
    {
      "cell_type": "markdown",
      "metadata": {
        "id": "Q-mCfittCV5G"
      },
      "source": [
        "# Problema The minion game\n",
        "\n",
        "[Enlace al reto](https://www.hackerrank.com/challenges/the-minion-game/problem?h_r=internal-search)\n",
        "\n",
        "Kevin and Stuart want to play the 'The Minion Game'.\n",
        "\n",
        "**Games rules**\n",
        "\n",
        "- Both players are given the same string, S.\n",
        "\n",
        "- Both players have to make substrings using the letters of the string S.\n",
        "\n",
        "- Stuart has to make words starting with consonants.\n",
        "\n",
        "- Kevin has to make words starting with vowels.\n",
        "\n",
        "- The game ends when both players have made all possible substrings.\n",
        "\n",
        "**Scoring**\n",
        "A player gets +1 point for each occurrence of the substring in the string S.\n",
        "\n",
        "**For Example:**\n",
        "String S = BANANA\n",
        "Kevin's vowel beginning word = ANA\n",
        "Here, ANA occurs twice in BANANA. Hence, Kevin will get 2 Points.\n",
        "\n",
        "Your task is to determine the winner of the game and their score.\n",
        "\n",
        "**Input Format**\n",
        "\n",
        "A single line of input containing the string S.\n",
        "\n",
        "**Note:** The string S will contain only uppercase letters: [A - Z].\n",
        "\n",
        "**Constraints**\n",
        "\n",
        "0 < len(S) <= 10^6\n",
        "\n",
        "**Output format**\n",
        "\n",
        "Print one line: the name of the winner and their score separated by a space.\n",
        "\n",
        "If the game is a draw, print Draw.\n",
        "\n",
        "**Sample input**\n",
        "\n",
        "```\n",
        "BANANA\n",
        "```\n",
        "\n",
        "**Sample output**\n",
        "\n",
        "```\n",
        "Stuart 12\n",
        "```\n"
      ]
    },
    {
      "cell_type": "markdown",
      "metadata": {
        "id": "u2v5cmIDFNuz"
      },
      "source": [
        "# Solución"
      ]
    },
    {
      "cell_type": "code",
      "metadata": {
        "id": "Y7RhW3v7FU_N"
      },
      "source": [
        "#\n",
        "\n",
        "# función principal\n",
        "if __name__ == \"__main__\":\n",
        "  S = ['BANANA']\n",
        "\n",
        "  for element in S:\n",
        "    print(\"Expected: Stuart 12\")\n",
        "    print(\"Result: \" + minion_game(S))"
      ],
      "execution_count": null,
      "outputs": []
    }
  ]
}